{
  "nbformat": 4,
  "nbformat_minor": 0,
  "metadata": {
    "colab": {
      "provenance": []
    },
    "kernelspec": {
      "name": "python3",
      "display_name": "Python 3"
    },
    "language_info": {
      "name": "python"
    }
  },
  "cells": [
    {
      "cell_type": "code",
      "source": [
        "i=0\n",
        "while i<15:\n",
        "  i +=1\n",
        "  print(i)"
      ],
      "metadata": {
        "colab": {
          "base_uri": "https://localhost:8080/"
        },
        "id": "b_I77pf28mBE",
        "outputId": "8aa7c1de-3ee8-40d9-d9c6-a63777572b50"
      },
      "execution_count": null,
      "outputs": [
        {
          "output_type": "stream",
          "name": "stdout",
          "text": [
            "1\n",
            "2\n",
            "3\n",
            "4\n",
            "5\n",
            "6\n",
            "7\n",
            "8\n",
            "9\n",
            "10\n",
            "11\n",
            "12\n",
            "13\n",
            "14\n",
            "15\n"
          ]
        }
      ]
    },
    {
      "cell_type": "code",
      "source": [],
      "metadata": {
        "id": "hXMWteB7sGni"
      },
      "execution_count": null,
      "outputs": []
    },
    {
      "cell_type": "code",
      "source": [],
      "metadata": {
        "id": "19rw_kFpEJZi"
      },
      "execution_count": null,
      "outputs": []
    },
    {
      "cell_type": "code",
      "source": [],
      "metadata": {
        "id": "WIZjQQYQEJcY"
      },
      "execution_count": null,
      "outputs": []
    },
    {
      "cell_type": "code",
      "source": [],
      "metadata": {
        "id": "_7H6cVPlEJfg"
      },
      "execution_count": null,
      "outputs": []
    },
    {
      "cell_type": "code",
      "source": [
        "n1, n2 = map(int,input().split())\n",
        "n=0\n",
        "m=[]\n",
        "while n1 <= n**2 - 100*n + 1 <= n2:\n",
        "  n +=n\n",
        "  m.append(n)\n",
        "if len(m)>=1:\n",
        "  print(len(m))\n",
        "print(m)"
      ],
      "metadata": {
        "colab": {
          "base_uri": "https://localhost:8080/",
          "height": 262
        },
        "id": "9p4uOC_6-I1D",
        "outputId": "82eb3f95-7c3b-44cd-acfe-3a201d6dc58d"
      },
      "execution_count": null,
      "outputs": [
        {
          "name": "stdout",
          "output_type": "stream",
          "text": [
            "0 100\n"
          ]
        },
        {
          "output_type": "error",
          "ename": "KeyboardInterrupt",
          "evalue": "ignored",
          "traceback": [
            "\u001b[0;31m---------------------------------------------------------------------------\u001b[0m",
            "\u001b[0;31mKeyboardInterrupt\u001b[0m                         Traceback (most recent call last)",
            "\u001b[0;32m<ipython-input-29-b2fb7ba43b27>\u001b[0m in \u001b[0;36m<cell line: 4>\u001b[0;34m()\u001b[0m\n\u001b[1;32m      2\u001b[0m \u001b[0mn\u001b[0m\u001b[0;34m=\u001b[0m\u001b[0;36m0\u001b[0m\u001b[0;34m\u001b[0m\u001b[0;34m\u001b[0m\u001b[0m\n\u001b[1;32m      3\u001b[0m \u001b[0mm\u001b[0m\u001b[0;34m=\u001b[0m\u001b[0;34m[\u001b[0m\u001b[0;34m]\u001b[0m\u001b[0;34m\u001b[0m\u001b[0;34m\u001b[0m\u001b[0m\n\u001b[0;32m----> 4\u001b[0;31m \u001b[0;32mwhile\u001b[0m \u001b[0mn1\u001b[0m \u001b[0;34m<=\u001b[0m \u001b[0mn\u001b[0m\u001b[0;34m**\u001b[0m\u001b[0;36m2\u001b[0m \u001b[0;34m-\u001b[0m \u001b[0;36m100\u001b[0m\u001b[0;34m*\u001b[0m\u001b[0mn\u001b[0m \u001b[0;34m+\u001b[0m \u001b[0;36m1\u001b[0m \u001b[0;34m<=\u001b[0m \u001b[0mn2\u001b[0m\u001b[0;34m:\u001b[0m\u001b[0;34m\u001b[0m\u001b[0;34m\u001b[0m\u001b[0m\n\u001b[0m\u001b[1;32m      5\u001b[0m   \u001b[0mn\u001b[0m \u001b[0;34m+=\u001b[0m\u001b[0mn\u001b[0m\u001b[0;34m\u001b[0m\u001b[0;34m\u001b[0m\u001b[0m\n\u001b[1;32m      6\u001b[0m   \u001b[0mm\u001b[0m\u001b[0;34m.\u001b[0m\u001b[0mappend\u001b[0m\u001b[0;34m(\u001b[0m\u001b[0mn\u001b[0m\u001b[0;34m)\u001b[0m\u001b[0;34m\u001b[0m\u001b[0;34m\u001b[0m\u001b[0m\n",
            "\u001b[0;31mKeyboardInterrupt\u001b[0m: "
          ]
        }
      ]
    },
    {
      "cell_type": "code",
      "source": [
        "n1, n2 = map(int,input().split())\n",
        "n=0\n",
        "while n1 <=n**2-100*n+1<=n2:\n",
        "  n=n+1\n",
        "  print(n-1)"
      ],
      "metadata": {
        "id": "vjeP7CM8-I-a",
        "colab": {
          "base_uri": "https://localhost:8080/"
        },
        "outputId": "477cf2c6-1c50-475c-ca10-5ae2f408476c"
      },
      "execution_count": null,
      "outputs": [
        {
          "output_type": "stream",
          "name": "stdout",
          "text": [
            "0 100\n",
            "0\n"
          ]
        }
      ]
    },
    {
      "cell_type": "code",
      "source": [
        "n1,n2 = map(int,input().split())\n",
        "n=0\n",
        "while n1<=(n**2-100*n)<=n2:\n",
        "  n=n+1\n",
        " print(n-1)\n"
      ],
      "metadata": {
        "id": "WTXrKNAw-JBj",
        "colab": {
          "base_uri": "https://localhost:8080/"
        },
        "outputId": "5f8bfc8d-5fec-40df-b883-c9e91d124382"
      },
      "execution_count": null,
      "outputs": [
        {
          "name": "stdout",
          "output_type": "stream",
          "text": [
            "0 100\n"
          ]
        }
      ]
    },
    {
      "cell_type": "code",
      "source": [
        "\n",
        "n= map(int,input().split())\n",
        "def f(n):\n",
        "  fx=f(n-1)+f(n-2)\n",
        "  return fx\\\n",
        "  print(f(n))\n"
      ],
      "metadata": {
        "id": "7rtHlnvk-JFc",
        "colab": {
          "base_uri": "https://localhost:8080/",
          "height": 140
        },
        "outputId": "4fcd2acd-035e-4435-d829-da0f23fe4b6c"
      },
      "execution_count": null,
      "outputs": [
        {
          "output_type": "error",
          "ename": "SyntaxError",
          "evalue": "ignored",
          "traceback": [
            "\u001b[0;36m  File \u001b[0;32m\"<ipython-input-10-ca68715c302f>\"\u001b[0;36m, line \u001b[0;32m5\u001b[0m\n\u001b[0;31m    print(f(n))\u001b[0m\n\u001b[0m    ^\u001b[0m\n\u001b[0;31mSyntaxError\u001b[0m\u001b[0;31m:\u001b[0m invalid syntax\n"
          ]
        }
      ]
    },
    {
      "cell_type": "code",
      "source": [
        "import math\n",
        "n1,n2=map(int,input().split())\n",
        "ds=[]\n",
        "n=0\n",
        "while True:\n",
        "   x=n**2-100*n+1\n",
        "  if x>=n1 and x<=n2:\n",
        "   ds.append(n)\n",
        "  elif (x>n2):\n",
        "   break\n",
        "n+=1\n",
        "print(len(ds))\n",
        "print(*ds)"
      ],
      "metadata": {
        "colab": {
          "base_uri": "https://localhost:8080/",
          "height": 140
        },
        "id": "U3bmD_OAEK21",
        "outputId": "89bec43b-bd2d-4675-ce24-3ea2ffd92a2a"
      },
      "execution_count": null,
      "outputs": [
        {
          "output_type": "error",
          "ename": "IndentationError",
          "evalue": "ignored",
          "traceback": [
            "\u001b[0;36m  File \u001b[0;32m\"<tokenize>\"\u001b[0;36m, line \u001b[0;32m7\u001b[0m\n\u001b[0;31m    if x>=n1 and x<=n2:\u001b[0m\n\u001b[0m    ^\u001b[0m\n\u001b[0;31mIndentationError\u001b[0m\u001b[0;31m:\u001b[0m unindent does not match any outer indentation level\n"
          ]
        }
      ]
    },
    {
      "cell_type": "code",
      "source": [
        "import math\n",
        "n1, n2 = map(int,input().split())\n",
        "n=0\n",
        "m=[]\n",
        "while n1 <= n**2 - 100*n + 1 <= n2:\n",
        "  n +=1\n",
        "  m.append(n-1)\n",
        "  if len(m)>=1:\n",
        " print(len(m))\n",
        "print(*m)\n",
        "  if len(m)<=0:\n",
        "  print('vo nghiem')"
      ],
      "metadata": {
        "colab": {
          "base_uri": "https://localhost:8080/",
          "height": 140
        },
        "id": "ULaXc5Q3EK5l",
        "outputId": "a4899de4-3428-4ac7-f25a-42f70e5b703b"
      },
      "execution_count": null,
      "outputs": [
        {
          "output_type": "error",
          "ename": "IndentationError",
          "evalue": "ignored",
          "traceback": [
            "\u001b[0;36m  File \u001b[0;32m\"<tokenize>\"\u001b[0;36m, line \u001b[0;32m9\u001b[0m\n\u001b[0;31m    print(len(m))\u001b[0m\n\u001b[0m    ^\u001b[0m\n\u001b[0;31mIndentationError\u001b[0m\u001b[0;31m:\u001b[0m unindent does not match any outer indentation level\n"
          ]
        }
      ]
    },
    {
      "cell_type": "code",
      "source": [
        "import math\n",
        "n1,n2=map(int,input().split())\n",
        "ds=[]\n",
        "n=0\n",
        "while True:\n",
        "  x=n**2-100*n+1\n",
        "  if x>=n1 and x<=n2:\n",
        "   ds.append(n)\n",
        "  n+=1\n",
        "print(len(ds))\n",
        "print(*ds)\n",
        "else:\n",
        "print('vo nghiem')"
      ],
      "metadata": {
        "colab": {
          "base_uri": "https://localhost:8080/",
          "height": 140
        },
        "id": "EkZxju7iELBN",
        "outputId": "ac14ea09-0f5a-43a6-9350-a8a5e4eebcc2"
      },
      "execution_count": null,
      "outputs": [
        {
          "output_type": "error",
          "ename": "SyntaxError",
          "evalue": "ignored",
          "traceback": [
            "\u001b[0;36m  File \u001b[0;32m\"<ipython-input-67-45759e0a13c7>\"\u001b[0;36m, line \u001b[0;32m12\u001b[0m\n\u001b[0;31m    else:\u001b[0m\n\u001b[0m    ^\u001b[0m\n\u001b[0;31mSyntaxError\u001b[0m\u001b[0;31m:\u001b[0m invalid syntax\n"
          ]
        }
      ]
    },
    {
      "cell_type": "code",
      "source": [
        "import math\n",
        "n1,n2=map(int,input().split())\n",
        "m=[]\n",
        "n=0\n",
        "while True:\n",
        "  x=n**2-100*n+1\n",
        "  if x>=n1 and x<=n2:\n",
        "   m.append(n)\n",
        "  elif (x>n2):\n",
        "   break\n",
        "  n+=1\n",
        "print(len(m))\n",
        "print(*m)\n",
        "if len(m)<=0:\n",
        " print('vo nghiem')\n"
      ],
      "metadata": {
        "id": "Ou_e9PntELDl"
      },
      "execution_count": null,
      "outputs": []
    },
    {
      "cell_type": "code",
      "source": [
        "n=int(input())\n",
        "Sn=0\n",
        "i=0\n",
        "while i<n\n",
        "s= s + 1/(1+n)"
      ],
      "metadata": {
        "id": "ryQXtjBVRKpF"
      },
      "execution_count": null,
      "outputs": []
    },
    {
      "cell_type": "code",
      "source": [
        "M=float(input())\n",
        "n=0\n",
        "Sn=0\n",
        "if\n",
        " Sn=Sn + 1/(1+n)\n",
        " print(n)\n",
        "\n"
      ],
      "metadata": {
        "colab": {
          "base_uri": "https://localhost:8080/",
          "height": 140
        },
        "id": "orfvvAO1SRn2",
        "outputId": "28199696-ffe4-4ebf-a9c8-1857f5e3af5b"
      },
      "execution_count": null,
      "outputs": [
        {
          "output_type": "error",
          "ename": "SyntaxError",
          "evalue": "ignored",
          "traceback": [
            "\u001b[0;36m  File \u001b[0;32m\"<ipython-input-133-e9775d794959>\"\u001b[0;36m, line \u001b[0;32m4\u001b[0m\n\u001b[0;31m    while:\u001b[0m\n\u001b[0m         ^\u001b[0m\n\u001b[0;31mSyntaxError\u001b[0m\u001b[0;31m:\u001b[0m invalid syntax\n"
          ]
        }
      ]
    },
    {
      "cell_type": "code",
      "source": [
        "A=[]\n",
        "m,m=map(int,input().split())\n",
        "for i in range(m):\n",
        "  hang_i=list(map(int,input().split()))\n",
        "  A.append(hang_i)\n",
        "for i in range(m):\n",
        " for j in range(n):\n",
        "    if j!=n-1:\n",
        "      print(A[i][j], end=' ')\n",
        "    else:\n",
        "      print(A[i][j])"
      ],
      "metadata": {
        "colab": {
          "base_uri": "https://localhost:8080/",
          "height": 314
        },
        "id": "7XxJKtFhTq0v",
        "outputId": "1a155211-f3af-456c-fbf0-77a3117aba30"
      },
      "execution_count": null,
      "outputs": [
        {
          "output_type": "stream",
          "name": "stdout",
          "text": [
            "2 2 \n",
            "1 2\n",
            "3 4\n",
            "1 2 "
          ]
        },
        {
          "output_type": "error",
          "ename": "IndexError",
          "evalue": "ignored",
          "traceback": [
            "\u001b[0;31m---------------------------------------------------------------------------\u001b[0m",
            "\u001b[0;31mIndexError\u001b[0m                                Traceback (most recent call last)",
            "\u001b[0;32m<ipython-input-123-8879d799adbc>\u001b[0m in \u001b[0;36m<cell line: 6>\u001b[0;34m()\u001b[0m\n\u001b[1;32m      7\u001b[0m  \u001b[0;32mfor\u001b[0m \u001b[0mj\u001b[0m \u001b[0;32min\u001b[0m \u001b[0mrange\u001b[0m\u001b[0;34m(\u001b[0m\u001b[0mn\u001b[0m\u001b[0;34m)\u001b[0m\u001b[0;34m:\u001b[0m\u001b[0;34m\u001b[0m\u001b[0;34m\u001b[0m\u001b[0m\n\u001b[1;32m      8\u001b[0m     \u001b[0;32mif\u001b[0m \u001b[0mj\u001b[0m\u001b[0;34m!=\u001b[0m\u001b[0mn\u001b[0m\u001b[0;34m-\u001b[0m\u001b[0;36m1\u001b[0m\u001b[0;34m:\u001b[0m\u001b[0;34m\u001b[0m\u001b[0;34m\u001b[0m\u001b[0m\n\u001b[0;32m----> 9\u001b[0;31m       \u001b[0mprint\u001b[0m\u001b[0;34m(\u001b[0m\u001b[0mA\u001b[0m\u001b[0;34m[\u001b[0m\u001b[0mi\u001b[0m\u001b[0;34m]\u001b[0m\u001b[0;34m[\u001b[0m\u001b[0mj\u001b[0m\u001b[0;34m]\u001b[0m\u001b[0;34m,\u001b[0m \u001b[0mend\u001b[0m\u001b[0;34m=\u001b[0m\u001b[0;34m' '\u001b[0m\u001b[0;34m)\u001b[0m\u001b[0;34m\u001b[0m\u001b[0;34m\u001b[0m\u001b[0m\n\u001b[0m\u001b[1;32m     10\u001b[0m     \u001b[0;32melse\u001b[0m\u001b[0;34m:\u001b[0m\u001b[0;34m\u001b[0m\u001b[0;34m\u001b[0m\u001b[0m\n\u001b[1;32m     11\u001b[0m       \u001b[0mprint\u001b[0m\u001b[0;34m(\u001b[0m\u001b[0mA\u001b[0m\u001b[0;34m[\u001b[0m\u001b[0mi\u001b[0m\u001b[0;34m]\u001b[0m\u001b[0;34m[\u001b[0m\u001b[0mj\u001b[0m\u001b[0;34m]\u001b[0m\u001b[0;34m)\u001b[0m\u001b[0;34m\u001b[0m\u001b[0;34m\u001b[0m\u001b[0m\n",
            "\u001b[0;31mIndexError\u001b[0m: list index out of range"
          ]
        }
      ]
    },
    {
      "cell_type": "code",
      "source": [
        "A=[]\n",
        "m,n=map(int,input().split())\n",
        "for i in range(m):\n",
        "  hang_i=list(map(int,input().split()))\n",
        "  A.append(hang_i)\n",
        "for i in range(m):\n",
        "  for j in range(n):\n",
        "    if j!=n-1:\n",
        "      print(A[i][j], end=' ')\n",
        "    else:\n",
        "      print(A[i][j])"
      ],
      "metadata": {
        "colab": {
          "base_uri": "https://localhost:8080/"
        },
        "id": "Dw_migPASRqd",
        "outputId": "a3fa9286-8bd1-4afd-dfe0-760132c741d0"
      },
      "execution_count": null,
      "outputs": [
        {
          "output_type": "stream",
          "name": "stdout",
          "text": [
            " 2 2\n",
            "1 2 \n",
            "3 4\n",
            "1 2\n",
            "3 4\n"
          ]
        }
      ]
    },
    {
      "cell_type": "code",
      "source": [
        "def fibonacci(n):\n",
        "    if n <= 0:\n",
        "        return 0\n",
        "    elif n == 1 or n == 2:\n",
        "        return 1\n",
        "    else:\n",
        "        a, b = 1, 1\n",
        "        for _ in range(n - 2):\n",
        "            a, b = b, a + b\n",
        "        return b\n",
        "\n",
        "n = int(input())\n",
        "if 1 <= n <= 30:\n",
        "    result = fibonacci(n)\n",
        "    print(result)"
      ],
      "metadata": {
        "id": "wAh3pJVTRKrt"
      },
      "execution_count": null,
      "outputs": []
    },
    {
      "cell_type": "code",
      "source": [
        "A=[]\n",
        "B=[]\n",
        "m,n,k=map(int,input().split())\n",
        "for i in range(m):\n",
        "  hang_i=list(map(int,input().split()))\n",
        "  A.append(hang_i)\n",
        "for i in range(k):\n",
        "  hang_i=list(map(int,input().split()))\n",
        "  B.append(hang_i)\n",
        "for i in range(m):\n",
        "  for j in range(n):\n",
        "    if j!=n-1:\n",
        "      print(A[i][j]*B[i][j],end=' ')\n",
        "    else:\n",
        "      print(A[i][j]*B[i]*[j])\n",
        "\n"
      ],
      "metadata": {
        "id": "_HWkgUWKRKzN"
      },
      "execution_count": null,
      "outputs": []
    },
    {
      "cell_type": "markdown",
      "source": [
        "Bai c"
      ],
      "metadata": {
        "id": "EcQLrVN-_h3a"
      }
    },
    {
      "cell_type": "code",
      "source": [
        "\n",
        "def fibonacci(n):\n",
        "  if n<=1:\n",
        "     return n\n",
        "  else:\n",
        "     f0=1\n",
        "     f1=1\n",
        "     fn=0\n",
        "     while n>=2:\n",
        "            fn=f0+f1\n",
        "            f0=f1\n",
        "            f1 = fn\n",
        "            n=-1\n",
        "     return fn\n",
        "n=int(input())\n",
        "print(fibonacci(n))"
      ],
      "metadata": {
        "id": "1cWUxKCZRK4o",
        "colab": {
          "base_uri": "https://localhost:8080/"
        },
        "outputId": "14546127-fe30-4ac9-c77a-1bbd14893a17"
      },
      "execution_count": null,
      "outputs": [
        {
          "output_type": "stream",
          "name": "stdout",
          "text": [
            "10\n",
            "2\n"
          ]
        }
      ]
    },
    {
      "cell_type": "code",
      "source": [
        "def fibonacci(n):\n",
        "        a, b = 0, 1\n",
        "        for _ in range(2, n + 1):\n",
        "            a, b = b, a + b\n",
        "        return b\n",
        "n = int(input())\n",
        "result = fibonacci(n)\n",
        "print(result)\n"
      ],
      "metadata": {
        "colab": {
          "base_uri": "https://localhost:8080/"
        },
        "id": "FJRah8-3BceP",
        "outputId": "23afce11-1475-4ee0-9e86-27bcd52bc5a7"
      },
      "execution_count": null,
      "outputs": [
        {
          "output_type": "stream",
          "name": "stdout",
          "text": [
            "10\n",
            "55\n"
          ]
        }
      ]
    },
    {
      "cell_type": "code",
      "source": [
        "def fibonacci(n):\n",
        "    if n <= 1:\n",
        "        return n\n",
        "    else:\n",
        "        f0, f1 = 1, 1\n",
        "        while n > 2:\n",
        "            fn = f0 + f1\n",
        "            f0, f1 = f1, fn\n",
        "            n -= 1\n",
        "        return f1\n",
        "\n",
        "n = int(input())\n",
        "print(fibonacci(n))\n"
      ],
      "metadata": {
        "colab": {
          "base_uri": "https://localhost:8080/"
        },
        "id": "nBHx1UtTBcgf",
        "outputId": "57880023-b79d-4b88-8a75-5c70a232c2e4"
      },
      "execution_count": null,
      "outputs": [
        {
          "output_type": "stream",
          "name": "stdout",
          "text": [
            "10\n",
            "55\n"
          ]
        }
      ]
    },
    {
      "cell_type": "code",
      "source": [
        "def fibonacci(n):\n",
        "    if n <= 1:\n",
        "        return n\n",
        "    else:\n",
        "        f0, f1 = 1, 1\n",
        "        while n > 2:\n",
        "            fn = f0 + f1\n",
        "            f0, f1 = f1, fn\n",
        "            n -= 1\n",
        "        return f1\n",
        "\n",
        "n = int(input())\n",
        "print(fibonacci(n))\n"
      ],
      "metadata": {
        "id": "FOrA89DoOtf6"
      },
      "execution_count": null,
      "outputs": []
    },
    {
      "cell_type": "code",
      "source": [],
      "metadata": {
        "id": "HGGeIIwgOtlp"
      },
      "execution_count": null,
      "outputs": []
    },
    {
      "cell_type": "code",
      "source": [],
      "metadata": {
        "id": "BFbQJ2lAPwcb"
      },
      "execution_count": null,
      "outputs": []
    },
    {
      "cell_type": "markdown",
      "source": [
        "Bài g"
      ],
      "metadata": {
        "id": "rltugoUJPwnG"
      }
    },
    {
      "cell_type": "code",
      "source": [
        "\n",
        "m, n, p = map(int, input().split())\n",
        "A = [list(map(int, input().split())) for _ in range(m)]\n",
        "B = [list(map(int, input().split())) for _ in range(n)]\n",
        "C = [[0 for _ in range(p)] for _ in range(m)]\n",
        "for i in range(m):\n",
        "    for j in range(p):\n",
        "        for k in range(n):\n",
        "            C[i][j] += A[i][k] * B[k][j]\n",
        "for i in C:\n",
        "    print(*i)\n"
      ],
      "metadata": {
        "colab": {
          "base_uri": "https://localhost:8080/"
        },
        "id": "WLdHYN8APzD-",
        "outputId": "5f8b8616-991b-43ea-9300-5af6eb75a445"
      },
      "execution_count": null,
      "outputs": [
        {
          "output_type": "stream",
          "name": "stdout",
          "text": [
            "2 2 2\n",
            "1 0\n",
            "0 1\n",
            "1 3\n",
            "4 5\n",
            "1 3\n",
            "4 5\n"
          ]
        }
      ]
    },
    {
      "cell_type": "code",
      "source": [
        "A=[]\n",
        "B=[]\n",
        "C=[]\n",
        "m,n,p=map(int,input().split())\n",
        "for i in range(m):\n",
        "  hang_i=list(map(int,input().split()))\n",
        "  A.append(hang_i)\n",
        "for i in range(n):\n",
        "  hang_i=list(map(int,input().split()))\n",
        "  B.append(hang_i)\n",
        "for i in range(m):\n",
        "    for j in range(p):\n",
        "        for k in range(n):\n",
        "            C[i][j] += A[i][k] * B[k][j]\n",
        "for row in C:\n",
        "    print(*row)\n",
        "\n"
      ],
      "metadata": {
        "colab": {
          "base_uri": "https://localhost:8080/",
          "height": 332
        },
        "id": "J6LkQNqoPzGt",
        "outputId": "7d2476e7-954d-4177-ed7c-a962436a200a"
      },
      "execution_count": null,
      "outputs": [
        {
          "name": "stdout",
          "output_type": "stream",
          "text": [
            "2 2 2\n",
            "1 0\n",
            "0 1\n",
            "1 3\n",
            "4 5\n"
          ]
        },
        {
          "output_type": "error",
          "ename": "IndexError",
          "evalue": "ignored",
          "traceback": [
            "\u001b[0;31m---------------------------------------------------------------------------\u001b[0m",
            "\u001b[0;31mIndexError\u001b[0m                                Traceback (most recent call last)",
            "\u001b[0;32m<ipython-input-59-84440e8f3018>\u001b[0m in \u001b[0;36m<cell line: 11>\u001b[0;34m()\u001b[0m\n\u001b[1;32m     12\u001b[0m     \u001b[0;32mfor\u001b[0m \u001b[0mj\u001b[0m \u001b[0;32min\u001b[0m \u001b[0mrange\u001b[0m\u001b[0;34m(\u001b[0m\u001b[0mp\u001b[0m\u001b[0;34m)\u001b[0m\u001b[0;34m:\u001b[0m\u001b[0;34m\u001b[0m\u001b[0;34m\u001b[0m\u001b[0m\n\u001b[1;32m     13\u001b[0m         \u001b[0;32mfor\u001b[0m \u001b[0mk\u001b[0m \u001b[0;32min\u001b[0m \u001b[0mrange\u001b[0m\u001b[0;34m(\u001b[0m\u001b[0mn\u001b[0m\u001b[0;34m)\u001b[0m\u001b[0;34m:\u001b[0m\u001b[0;34m\u001b[0m\u001b[0;34m\u001b[0m\u001b[0m\n\u001b[0;32m---> 14\u001b[0;31m             \u001b[0mC\u001b[0m\u001b[0;34m[\u001b[0m\u001b[0mi\u001b[0m\u001b[0;34m]\u001b[0m\u001b[0;34m[\u001b[0m\u001b[0mj\u001b[0m\u001b[0;34m]\u001b[0m \u001b[0;34m+=\u001b[0m \u001b[0mA\u001b[0m\u001b[0;34m[\u001b[0m\u001b[0mi\u001b[0m\u001b[0;34m]\u001b[0m\u001b[0;34m[\u001b[0m\u001b[0mk\u001b[0m\u001b[0;34m]\u001b[0m \u001b[0;34m*\u001b[0m \u001b[0mB\u001b[0m\u001b[0;34m[\u001b[0m\u001b[0mk\u001b[0m\u001b[0;34m]\u001b[0m\u001b[0;34m[\u001b[0m\u001b[0mj\u001b[0m\u001b[0;34m]\u001b[0m\u001b[0;34m\u001b[0m\u001b[0;34m\u001b[0m\u001b[0m\n\u001b[0m\u001b[1;32m     15\u001b[0m \u001b[0;32mfor\u001b[0m \u001b[0mrow\u001b[0m \u001b[0;32min\u001b[0m \u001b[0mC\u001b[0m\u001b[0;34m:\u001b[0m\u001b[0;34m\u001b[0m\u001b[0;34m\u001b[0m\u001b[0m\n\u001b[1;32m     16\u001b[0m     \u001b[0mprint\u001b[0m\u001b[0;34m(\u001b[0m\u001b[0;34m*\u001b[0m\u001b[0mrow\u001b[0m\u001b[0;34m)\u001b[0m\u001b[0;34m\u001b[0m\u001b[0;34m\u001b[0m\u001b[0m\n",
            "\u001b[0;31mIndexError\u001b[0m: list index out of range"
          ]
        }
      ]
    },
    {
      "cell_type": "code",
      "source": [],
      "metadata": {
        "colab": {
          "base_uri": "https://localhost:8080/",
          "height": 141
        },
        "id": "HPiWc6FSSnSK",
        "outputId": "fd430aba-3cef-421b-84de-ce5b0931eff1"
      },
      "execution_count": null,
      "outputs": [
        {
          "output_type": "error",
          "ename": "IndentationError",
          "evalue": "ignored",
          "traceback": [
            "\u001b[0;36m  File \u001b[0;32m\"<tokenize>\"\u001b[0;36m, line \u001b[0;32m14\u001b[0m\n\u001b[0;31m    for i in range(m):\u001b[0m\n\u001b[0m    ^\u001b[0m\n\u001b[0;31mIndentationError\u001b[0m\u001b[0;31m:\u001b[0m unindent does not match any outer indentation level\n"
          ]
        }
      ]
    },
    {
      "cell_type": "code",
      "source": [
        "A = []\n",
        "B = []\n",
        "C = []\n",
        "m, n, p = map(int, input().split())\n",
        "for i in range(m):\n",
        "    hang_i = list(map(int, input().split()))\n",
        "    A.append(hang_i)\n",
        "for i in range(n):\n",
        "    hang_i = list(map(int, input().split()))\n",
        "    B.append(hang_i)\n",
        "C = [[0 for i in range(p)] for i in range(m)]\n",
        "for i in range(m):\n",
        "    for j in range(p):\n",
        "        for k in range(n):\n",
        "            C[i][j] += A[i][k] * B[k][j]\n",
        "for i in C:\n",
        "    print(*i)\n"
      ],
      "metadata": {
        "colab": {
          "base_uri": "https://localhost:8080/"
        },
        "id": "S8M1Cbu4SnVP",
        "outputId": "f7bf0ff4-bd0e-4836-8483-de23f802009e"
      },
      "execution_count": null,
      "outputs": [
        {
          "output_type": "stream",
          "name": "stdout",
          "text": [
            "2 2 2\n",
            "1 0\n",
            "0 1\n",
            "1 3\n",
            "3 4\n",
            "1 3\n",
            "3 4\n"
          ]
        }
      ]
    },
    {
      "cell_type": "code",
      "source": [
        "A = []\n",
        "B = []\n",
        "C = []\n",
        "m, n, p = map(int, input().split())\n",
        "for i in range(m):\n",
        "    hang_i = list(map(int, input().split()))\n",
        "    A.append(hang_i)\n",
        "for i in range(n):\n",
        "    hang_i = list(map(int, input().split()))\n",
        "    B.append(hang_i)\n",
        "int[] [] C = new int[m][p];\n",
        "for i in range(m):\n",
        "    for j in range(p):\n",
        "        for k in range(n):\n",
        "            C[i][j] += A[i][k] * B[k][j]\n",
        "for i in C:\n",
        "    print(*i)\n"
      ],
      "metadata": {
        "colab": {
          "base_uri": "https://localhost:8080/",
          "height": 141
        },
        "id": "Tvb26eyoXdwT",
        "outputId": "e8f68d61-fd52-4dd9-ccc4-747bd8d9d651"
      },
      "execution_count": null,
      "outputs": [
        {
          "output_type": "error",
          "ename": "SyntaxError",
          "evalue": "ignored",
          "traceback": [
            "\u001b[0;36m  File \u001b[0;32m\"<ipython-input-82-a8489bf1c8c0>\"\u001b[0;36m, line \u001b[0;32m11\u001b[0m\n\u001b[0;31m    int[] [] C = new int[m][p];\u001b[0m\n\u001b[0m        ^\u001b[0m\n\u001b[0;31mSyntaxError\u001b[0m\u001b[0;31m:\u001b[0m invalid syntax\n"
          ]
        }
      ]
    },
    {
      "cell_type": "code",
      "source": [],
      "metadata": {
        "id": "Yd6zGMjpXd8D"
      },
      "execution_count": null,
      "outputs": []
    },
    {
      "cell_type": "markdown",
      "source": [
        "Bai H"
      ],
      "metadata": {
        "id": "LyATPM-3sI-B"
      }
    },
    {
      "cell_type": "code",
      "source": [
        "m, n = map(int, input().split())\n",
        "k, l = map(int, input().split())\n",
        "A = []\n",
        "for i in range(m):\n",
        "    x= list(map(int, input().split()))\n",
        "    A.append(x)\n",
        "for i in range(m):\n",
        "    A[i][k-1], A[i][l-1] = A[i][l-1], A[i][k-1]\n",
        "for x in A:\n",
        "    print(*x)\n"
      ],
      "metadata": {
        "colab": {
          "base_uri": "https://localhost:8080/"
        },
        "id": "qUd466lZsMmh",
        "outputId": "0d83704b-01a9-46c2-e813-c5607e1dbdbc"
      },
      "execution_count": null,
      "outputs": [
        {
          "output_type": "stream",
          "name": "stdout",
          "text": [
            "2 3\n",
            "1 3\n",
            "1 2 3\n",
            "4 5 6\n",
            "3 2 1\n",
            "6 5 4\n"
          ]
        }
      ]
    },
    {
      "cell_type": "code",
      "source": [],
      "metadata": {
        "id": "lrL_WE76wFE0"
      },
      "execution_count": null,
      "outputs": []
    },
    {
      "cell_type": "code",
      "source": [],
      "metadata": {
        "colab": {
          "base_uri": "https://localhost:8080/"
        },
        "id": "R015-Es8sMwx",
        "outputId": "08f63e60-ee5a-4da7-a0c8-90ed2c815f03"
      },
      "execution_count": null,
      "outputs": [
        {
          "output_type": "stream",
          "name": "stdout",
          "text": [
            "2 3\n",
            "1 3\n",
            "1 2 3\n",
            "4 5 6\n",
            "3 2 1\n",
            "6 5 4\n"
          ]
        }
      ]
    },
    {
      "cell_type": "code",
      "source": [],
      "metadata": {
        "colab": {
          "base_uri": "https://localhost:8080/"
        },
        "id": "UKhofzqZu9B7",
        "outputId": "0b9ed62c-9a38-43d2-d7fe-24aa925683c6"
      },
      "execution_count": null,
      "outputs": [
        {
          "output_type": "stream",
          "name": "stdout",
          "text": [
            "2 3\n",
            "1 3\n",
            "1 2 3\n",
            "4 5 6\n",
            "3 2 1\n",
            "6 5 4\n"
          ]
        }
      ]
    },
    {
      "cell_type": "code",
      "source": [
        "n = int(input())\n",
        "def fibonacci(n):\n",
        "    if n <= 0:\n",
        "     return False\n",
        "    else:\n",
        "        f0, f1 = 1, 1\n",
        "        while n > 2:\n",
        "            fn = f0 + f1\n",
        "            f0, f1 = f1, fn\n",
        "            n -= 1\n",
        "        if f0==1:\n",
        "          return True\n",
        "        else:\n",
        "          return False\n",
        "if fibonacci(n):\n",
        "    print(\"YES\")\n",
        "else:\n",
        "    print(\"NO\")"
      ],
      "metadata": {
        "id": "KPx_ujcsu9Eh",
        "colab": {
          "base_uri": "https://localhost:8080/"
        },
        "outputId": "7709a2f7-d73e-4e51-8c2d-2f5ed7cfd5e1"
      },
      "execution_count": null,
      "outputs": [
        {
          "output_type": "stream",
          "name": "stdout",
          "text": [
            "16\n",
            "NO\n"
          ]
        }
      ]
    },
    {
      "cell_type": "code",
      "source": [
        "m = int(input())\n",
        "def fibonacci(m):\n",
        "    f0, f1 = 1, 1\n",
        "    n=2\n",
        "    while n <= m:\n",
        "        fn = f0 + f1\n",
        "        f0, f1 = f1, fn\n",
        "        n += 1\n",
        "    print(n-2)\n",
        "fibonacci(m)\n"
      ],
      "metadata": {
        "colab": {
          "base_uri": "https://localhost:8080/"
        },
        "id": "AMFeoQaNsMzW",
        "outputId": "8738b6fe-fbd8-44e7-9599-7742b07f2ca8"
      },
      "execution_count": null,
      "outputs": [
        {
          "output_type": "stream",
          "name": "stdout",
          "text": [
            "6\n",
            "5\n"
          ]
        }
      ]
    },
    {
      "cell_type": "code",
      "source": [
        "m = int(input())\n",
        "def fibonacci(m):\n",
        "    f0, f1 = 1, 1\n",
        "    n = 2\n",
        "    while f1 <= m:\n",
        "        fn = f0 + f1\n",
        "        f0, f1 = f1, fn\n",
        "        n += 1\n",
        "    print(n-1)\n",
        "fibonacci(m)\n"
      ],
      "metadata": {
        "colab": {
          "base_uri": "https://localhost:8080/",
          "height": 390
        },
        "id": "-_wOyZIz7Qqz",
        "outputId": "8d7b865e-3753-477d-d6d7-af5425fb0280"
      },
      "execution_count": null,
      "outputs": [
        {
          "output_type": "error",
          "ename": "KeyboardInterrupt",
          "evalue": "ignored",
          "traceback": [
            "\u001b[0;31m---------------------------------------------------------------------------\u001b[0m",
            "\u001b[0;31mKeyboardInterrupt\u001b[0m                         Traceback (most recent call last)",
            "\u001b[0;32m<ipython-input-48-a9ce82c1f31c>\u001b[0m in \u001b[0;36m<cell line: 1>\u001b[0;34m()\u001b[0m\n\u001b[0;32m----> 1\u001b[0;31m \u001b[0mm\u001b[0m \u001b[0;34m=\u001b[0m \u001b[0mint\u001b[0m\u001b[0;34m(\u001b[0m\u001b[0minput\u001b[0m\u001b[0;34m(\u001b[0m\u001b[0;34m)\u001b[0m\u001b[0;34m)\u001b[0m\u001b[0;34m\u001b[0m\u001b[0;34m\u001b[0m\u001b[0m\n\u001b[0m\u001b[1;32m      2\u001b[0m \u001b[0;34m\u001b[0m\u001b[0m\n\u001b[1;32m      3\u001b[0m \u001b[0;32mdef\u001b[0m \u001b[0mfibonacci\u001b[0m\u001b[0;34m(\u001b[0m\u001b[0mm\u001b[0m\u001b[0;34m)\u001b[0m\u001b[0;34m:\u001b[0m\u001b[0;34m\u001b[0m\u001b[0;34m\u001b[0m\u001b[0m\n\u001b[1;32m      4\u001b[0m     \u001b[0mf0\u001b[0m\u001b[0;34m,\u001b[0m \u001b[0mf1\u001b[0m \u001b[0;34m=\u001b[0m \u001b[0;36m1\u001b[0m\u001b[0;34m,\u001b[0m \u001b[0;36m1\u001b[0m\u001b[0;34m\u001b[0m\u001b[0;34m\u001b[0m\u001b[0m\n\u001b[1;32m      5\u001b[0m     \u001b[0mn\u001b[0m \u001b[0;34m=\u001b[0m \u001b[0;36m2\u001b[0m\u001b[0;34m\u001b[0m\u001b[0;34m\u001b[0m\u001b[0m\n",
            "\u001b[0;32m/usr/local/lib/python3.10/dist-packages/ipykernel/kernelbase.py\u001b[0m in \u001b[0;36mraw_input\u001b[0;34m(self, prompt)\u001b[0m\n\u001b[1;32m    849\u001b[0m                 \u001b[0;34m\"raw_input was called, but this frontend does not support input requests.\"\u001b[0m\u001b[0;34m\u001b[0m\u001b[0;34m\u001b[0m\u001b[0m\n\u001b[1;32m    850\u001b[0m             )\n\u001b[0;32m--> 851\u001b[0;31m         return self._input_request(str(prompt),\n\u001b[0m\u001b[1;32m    852\u001b[0m             \u001b[0mself\u001b[0m\u001b[0;34m.\u001b[0m\u001b[0m_parent_ident\u001b[0m\u001b[0;34m,\u001b[0m\u001b[0;34m\u001b[0m\u001b[0;34m\u001b[0m\u001b[0m\n\u001b[1;32m    853\u001b[0m             \u001b[0mself\u001b[0m\u001b[0;34m.\u001b[0m\u001b[0m_parent_header\u001b[0m\u001b[0;34m,\u001b[0m\u001b[0;34m\u001b[0m\u001b[0;34m\u001b[0m\u001b[0m\n",
            "\u001b[0;32m/usr/local/lib/python3.10/dist-packages/ipykernel/kernelbase.py\u001b[0m in \u001b[0;36m_input_request\u001b[0;34m(self, prompt, ident, parent, password)\u001b[0m\n\u001b[1;32m    893\u001b[0m             \u001b[0;32mexcept\u001b[0m \u001b[0mKeyboardInterrupt\u001b[0m\u001b[0;34m:\u001b[0m\u001b[0;34m\u001b[0m\u001b[0;34m\u001b[0m\u001b[0m\n\u001b[1;32m    894\u001b[0m                 \u001b[0;31m# re-raise KeyboardInterrupt, to truncate traceback\u001b[0m\u001b[0;34m\u001b[0m\u001b[0;34m\u001b[0m\u001b[0m\n\u001b[0;32m--> 895\u001b[0;31m                 \u001b[0;32mraise\u001b[0m \u001b[0mKeyboardInterrupt\u001b[0m\u001b[0;34m(\u001b[0m\u001b[0;34m\"Interrupted by user\"\u001b[0m\u001b[0;34m)\u001b[0m \u001b[0;32mfrom\u001b[0m \u001b[0;32mNone\u001b[0m\u001b[0;34m\u001b[0m\u001b[0;34m\u001b[0m\u001b[0m\n\u001b[0m\u001b[1;32m    896\u001b[0m             \u001b[0;32mexcept\u001b[0m \u001b[0mException\u001b[0m \u001b[0;32mas\u001b[0m \u001b[0me\u001b[0m\u001b[0;34m:\u001b[0m\u001b[0;34m\u001b[0m\u001b[0;34m\u001b[0m\u001b[0m\n\u001b[1;32m    897\u001b[0m                 \u001b[0mself\u001b[0m\u001b[0;34m.\u001b[0m\u001b[0mlog\u001b[0m\u001b[0;34m.\u001b[0m\u001b[0mwarning\u001b[0m\u001b[0;34m(\u001b[0m\u001b[0;34m\"Invalid Message:\"\u001b[0m\u001b[0;34m,\u001b[0m \u001b[0mexc_info\u001b[0m\u001b[0;34m=\u001b[0m\u001b[0;32mTrue\u001b[0m\u001b[0;34m)\u001b[0m\u001b[0;34m\u001b[0m\u001b[0;34m\u001b[0m\u001b[0m\n",
            "\u001b[0;31mKeyboardInterrupt\u001b[0m: Interrupted by user"
          ]
        }
      ]
    },
    {
      "cell_type": "code",
      "source": [],
      "metadata": {
        "id": "CA842yNP8NZ4"
      },
      "execution_count": null,
      "outputs": []
    },
    {
      "cell_type": "code",
      "source": [
        "m = int(input())\n",
        "\n",
        "def fibonacci(m):\n",
        "    f0, f1 = 1, 1\n",
        "    n = 2\n",
        "    while n <= m:\n",
        "        fn = f0 + f1\n",
        "        f0, f1 = f1, fn\n",
        "        n += 1\n",
        "    print(n-2)\n",
        "fibonacci(m)\n"
      ],
      "metadata": {
        "colab": {
          "base_uri": "https://localhost:8080/"
        },
        "id": "OmkxeZrW8Nde",
        "outputId": "81fc63ac-b34f-4f5e-d74d-19cf9aa97d94"
      },
      "execution_count": null,
      "outputs": [
        {
          "output_type": "stream",
          "name": "stdout",
          "text": [
            "6\n",
            "5\n"
          ]
        }
      ]
    },
    {
      "cell_type": "code",
      "source": [],
      "metadata": {
        "id": "wqqw7G7e7Qup"
      },
      "execution_count": null,
      "outputs": []
    },
    {
      "cell_type": "code",
      "source": [
        "m=int(input())\n",
        "def fibonacci(m):\n",
        "        f0, f1 = 1, 1\n",
        "        while n > 2:\n",
        "            fn = f0 + f1\n",
        "            f0, f1 = f1, fn\n",
        "            n += 1\n",
        "        print(n)\n",
        "fibonacci(m)\n"
      ],
      "metadata": {
        "colab": {
          "base_uri": "https://localhost:8080/",
          "height": 349
        },
        "id": "b_6jFv6A5IAs",
        "outputId": "0ea48d97-8552-403e-d8fa-8362bdeb04a0"
      },
      "execution_count": null,
      "outputs": [
        {
          "name": "stdout",
          "output_type": "stream",
          "text": [
            "6\n"
          ]
        },
        {
          "output_type": "error",
          "ename": "UnboundLocalError",
          "evalue": "ignored",
          "traceback": [
            "\u001b[0;31m---------------------------------------------------------------------------\u001b[0m",
            "\u001b[0;31mUnboundLocalError\u001b[0m                         Traceback (most recent call last)",
            "\u001b[0;32m<ipython-input-43-cf9b6187fd13>\u001b[0m in \u001b[0;36m<cell line: 9>\u001b[0;34m()\u001b[0m\n\u001b[1;32m      7\u001b[0m             \u001b[0mn\u001b[0m \u001b[0;34m+=\u001b[0m \u001b[0;36m1\u001b[0m\u001b[0;34m\u001b[0m\u001b[0;34m\u001b[0m\u001b[0m\n\u001b[1;32m      8\u001b[0m         \u001b[0mprint\u001b[0m\u001b[0;34m(\u001b[0m\u001b[0mn\u001b[0m\u001b[0;34m)\u001b[0m\u001b[0;34m\u001b[0m\u001b[0;34m\u001b[0m\u001b[0m\n\u001b[0;32m----> 9\u001b[0;31m \u001b[0mfibonacci\u001b[0m\u001b[0;34m(\u001b[0m\u001b[0mm\u001b[0m\u001b[0;34m)\u001b[0m\u001b[0;34m\u001b[0m\u001b[0;34m\u001b[0m\u001b[0m\n\u001b[0m",
            "\u001b[0;32m<ipython-input-43-cf9b6187fd13>\u001b[0m in \u001b[0;36mfibonacci\u001b[0;34m(m)\u001b[0m\n\u001b[1;32m      2\u001b[0m \u001b[0;32mdef\u001b[0m \u001b[0mfibonacci\u001b[0m\u001b[0;34m(\u001b[0m\u001b[0mm\u001b[0m\u001b[0;34m)\u001b[0m\u001b[0;34m:\u001b[0m\u001b[0;34m\u001b[0m\u001b[0;34m\u001b[0m\u001b[0m\n\u001b[1;32m      3\u001b[0m         \u001b[0mf0\u001b[0m\u001b[0;34m,\u001b[0m \u001b[0mf1\u001b[0m \u001b[0;34m=\u001b[0m \u001b[0;36m1\u001b[0m\u001b[0;34m,\u001b[0m \u001b[0;36m1\u001b[0m\u001b[0;34m\u001b[0m\u001b[0;34m\u001b[0m\u001b[0m\n\u001b[0;32m----> 4\u001b[0;31m         \u001b[0;32mwhile\u001b[0m \u001b[0mn\u001b[0m \u001b[0;34m>\u001b[0m \u001b[0;36m2\u001b[0m\u001b[0;34m:\u001b[0m\u001b[0;34m\u001b[0m\u001b[0;34m\u001b[0m\u001b[0m\n\u001b[0m\u001b[1;32m      5\u001b[0m             \u001b[0mfn\u001b[0m \u001b[0;34m=\u001b[0m \u001b[0mf0\u001b[0m \u001b[0;34m+\u001b[0m \u001b[0mf1\u001b[0m\u001b[0;34m\u001b[0m\u001b[0;34m\u001b[0m\u001b[0m\n\u001b[1;32m      6\u001b[0m             \u001b[0mf0\u001b[0m\u001b[0;34m,\u001b[0m \u001b[0mf1\u001b[0m \u001b[0;34m=\u001b[0m \u001b[0mf1\u001b[0m\u001b[0;34m,\u001b[0m \u001b[0mfn\u001b[0m\u001b[0;34m\u001b[0m\u001b[0;34m\u001b[0m\u001b[0m\n",
            "\u001b[0;31mUnboundLocalError\u001b[0m: local variable 'n' referenced before assignment"
          ]
        }
      ]
    }
  ]
}