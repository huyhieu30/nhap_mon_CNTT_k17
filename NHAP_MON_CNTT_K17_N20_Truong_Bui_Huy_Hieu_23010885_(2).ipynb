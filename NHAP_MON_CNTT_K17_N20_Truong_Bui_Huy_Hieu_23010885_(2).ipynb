{
  "cells": [
    {
      "cell_type": "markdown",
      "metadata": {
        "id": "VWmJEVRZf1hb"
      },
      "source": [
        "Bài A"
      ]
    },
    {
      "cell_type": "markdown",
      "metadata": {
        "id": "K5ArXvfTYGSR"
      },
      "source": []
    },
    {
      "cell_type": "code",
      "execution_count": null,
      "metadata": {
        "colab": {
          "base_uri": "https://localhost:8080/"
        },
        "id": "f8HKsKl4f6Iq",
        "outputId": "eba9b60e-8f5c-4095-9da4-849549dda22a"
      },
      "outputs": [
        {
          "name": "stdout",
          "output_type": "stream",
          "text": [
            "0\n",
            "3.4\n",
            "von nghiem\n"
          ]
        }
      ],
      "source": [
        "a=float(input())\n",
        "b=float(input())\n",
        "if a==0:\n",
        " print('vo nghiem')\n",
        "else:\n",
        " x=-b/a\n",
        " print('%0.3f'%x)\n"
      ]
    },
    {
      "cell_type": "markdown",
      "metadata": {
        "id": "zxMip2GgpKCP"
      },
      "source": [
        "Bài B"
      ]
    },
    {
      "cell_type": "code",
      "execution_count": null,
      "metadata": {
        "id": "s9e-g1Jof6O7"
      },
      "outputs": [],
      "source": [
        "import math"
      ]
    },
    {
      "cell_type": "code",
      "execution_count": null,
      "metadata": {
        "colab": {
          "base_uri": "https://localhost:8080/"
        },
        "id": "nTwvcK6qf6Ro",
        "outputId": "638abfe3-bdab-4cac-e4cc-67cafb80eb44"
      },
      "outputs": [
        {
          "name": "stdout",
          "output_type": "stream",
          "text": [
            "0.389\n",
            "0.379 0.925 0.410 2.440\n"
          ]
        }
      ],
      "source": [
        "\n",
        "sin=math.sin\n",
        "cos=math.cos\n",
        "tan=math.tan\n",
        "x=float(input())\n",
        "\n",
        "print('%0.3f'%sin(x),'%0.3f'%cos(x),'%0.3f'%tan(x),'%0.3f'%(cos(x)/sin(x)))"
      ]
    },
    {
      "cell_type": "markdown",
      "metadata": {
        "id": "clv9fNjWv2zk"
      },
      "source": [
        "Bài C"
      ]
    },
    {
      "cell_type": "code",
      "execution_count": null,
      "metadata": {
        "id": "xX656sjHf6UW"
      },
      "outputs": [],
      "source": [
        "import math"
      ]
    },
    {
      "cell_type": "code",
      "execution_count": null,
      "metadata": {
        "colab": {
          "base_uri": "https://localhost:8080/"
        },
        "id": "RxYO7JT2f6Wn",
        "outputId": "fb32df13-a5f7-4a5f-c4ca-6c8f4aa5d46d"
      },
      "outputs": [
        {
          "name": "stdout",
          "output_type": "stream",
          "text": [
            "8\n",
            "2980.958 2.079 0.903 3.000\n"
          ]
        }
      ],
      "source": [
        "x=float(input())\n",
        "ln=math.log\n",
        "a=math.exp(x)\n",
        "b=ln(x)\n",
        "c=math.log10(x)\n",
        "d=math.log2(x)\n",
        "print('%0.3f'%a,'%0.3f'%b,'%0.3f'%c,'%0.3f'%d)\n",
        "\n"
      ]
    },
    {
      "cell_type": "markdown",
      "metadata": {
        "id": "pU6PSR5ozMDj"
      },
      "source": [
        "Bài D"
      ]
    },
    {
      "cell_type": "code",
      "execution_count": null,
      "metadata": {
        "colab": {
          "base_uri": "https://localhost:8080/"
        },
        "id": "mmv7dnKBf6Y7",
        "outputId": "b7589e37-3c6a-47ed-fd03-01c60a897aac"
      },
      "outputs": [
        {
          "name": "stdout",
          "output_type": "stream",
          "text": [
            "2064\n",
            "4\n",
            "0\n"
          ]
        }
      ],
      "source": [
        "n=int(input())\n",
        "m=int(input())\n",
        "print(n%m)"
      ]
    },
    {
      "cell_type": "markdown",
      "metadata": {
        "id": "HSBAgGuJ1G8F"
      },
      "source": [
        "Bài E"
      ]
    },
    {
      "cell_type": "code",
      "execution_count": null,
      "metadata": {
        "colab": {
          "base_uri": "https://localhost:8080/"
        },
        "id": "HeUCxphszi0U",
        "outputId": "d0db3a1c-984f-4708-d311-25f03ca0f72c"
      },
      "outputs": [
        {
          "name": "stdout",
          "output_type": "stream",
          "text": [
            "698\n",
            "698\n"
          ]
        }
      ],
      "source": [
        "n=int(input())\n",
        "print(n)"
      ]
    },
    {
      "cell_type": "markdown",
      "metadata": {
        "id": "9WlL9l1w1ft1"
      },
      "source": [
        "Bài F"
      ]
    },
    {
      "cell_type": "code",
      "execution_count": null,
      "metadata": {
        "colab": {
          "base_uri": "https://localhost:8080/"
        },
        "id": "HyoWFE4kzi3H",
        "outputId": "4b692adb-e21b-4445-c3ce-abc946d272c2"
      },
      "outputs": [
        {
          "name": "stdout",
          "output_type": "stream",
          "text": [
            "2064\n",
            "4\n",
            "516\n"
          ]
        }
      ],
      "source": [
        "n=int(input())\n",
        "m=int(input())\n",
        "print(n//m)\n"
      ]
    },
    {
      "cell_type": "markdown",
      "metadata": {
        "id": "EN7d6Ztj2PlR"
      },
      "source": [
        "Bài G"
      ]
    },
    {
      "cell_type": "markdown",
      "metadata": {
        "id": "XV6XJoo2f0kM"
      },
      "source": []
    },
    {
      "cell_type": "code",
      "execution_count": null,
      "metadata": {
        "colab": {
          "base_uri": "https://localhost:8080/"
        },
        "id": "T2yjFvbazi5_",
        "outputId": "b11ac603-66d5-4861-d085-07a2195f0c4a"
      },
      "outputs": [
        {
          "name": "stdout",
          "output_type": "stream",
          "text": [
            "16\n",
            "4.000\n"
          ]
        }
      ],
      "source": [
        "import math\n",
        "n=int(input())\n",
        "print('%0.3f'%math.sqrt(n))"
      ]
    },
    {
      "cell_type": "markdown",
      "metadata": {
        "id": "66cPOzg03dB7"
      },
      "source": [
        "Bài H"
      ]
    },
    {
      "cell_type": "code",
      "execution_count": null,
      "metadata": {
        "colab": {
          "base_uri": "https://localhost:8080/"
        },
        "id": "wlJHTl_33gmN",
        "outputId": "df17c93e-fab2-4f7b-de5a-95a48579fd4b"
      },
      "outputs": [
        {
          "name": "stdout",
          "output_type": "stream",
          "text": [
            "588\n",
            "YES\n"
          ]
        }
      ],
      "source": [
        "n=int(input())\n",
        "if n%2==0:\n",
        "  print(\"YES\")\n",
        "else :\n",
        "  print(\"NO\")"
      ]
    },
    {
      "cell_type": "markdown",
      "metadata": {
        "id": "crZLSdli4RiB"
      },
      "source": [
        "Bài F"
      ]
    },
    {
      "cell_type": "code",
      "execution_count": null,
      "metadata": {
        "colab": {
          "base_uri": "https://localhost:8080/"
        },
        "id": "bDYDezev3go7",
        "outputId": "39b75acc-3740-4ad2-d390-632ce62b45d9"
      },
      "outputs": [
        {
          "name": "stdout",
          "output_type": "stream",
          "text": [
            "49\n",
            "YES\n"
          ]
        }
      ],
      "source": [
        "import math\n",
        "n=int(input())\n",
        "if math.sqrt(n)%1==0:\n",
        "  print(\"YES\")\n",
        "else:\n",
        "  print(\"NO\")"
      ]
    },
    {
      "cell_type": "code",
      "execution_count": null,
      "metadata": {
        "id": "MBqNQgx63gvJ"
      },
      "outputs": [],
      "source": []
    },
    {
      "cell_type": "markdown",
      "metadata": {
        "id": "1TttX9PxBcZc"
      },
      "source": [
        "Bai I"
      ]
    },
    {
      "cell_type": "markdown",
      "metadata": {
        "id": "ISkJB0kDBXb9"
      },
      "source": []
    },
    {
      "cell_type": "code",
      "execution_count": null,
      "metadata": {
        "colab": {
          "base_uri": "https://localhost:8080/"
        },
        "id": "sdRKADhk3gzz",
        "outputId": "9a519844-1788-4788-c196-64f3ef70c0ba"
      },
      "outputs": [
        {
          "name": "stdout",
          "output_type": "stream",
          "text": [
            "1 2 3\n",
            "1 3\n"
          ]
        }
      ],
      "source": [
        "a,b,c=map(int,input().split())\n",
        "num = [a, b, c]\n",
        "print(min(num),max(num))\n"
      ]
    },
    {
      "cell_type": "code",
      "execution_count": null,
      "metadata": {
        "id": "oXQhj2xA3g2H"
      },
      "outputs": [],
      "source": []
    },
    {
      "cell_type": "markdown",
      "metadata": {
        "id": "SBG7A_TsTZRM"
      },
      "source": [
        "Bai N"
      ]
    },
    {
      "cell_type": "markdown",
      "metadata": {
        "id": "wBhM_wJdV9Wi"
      },
      "source": []
    },
    {
      "cell_type": "code",
      "execution_count": null,
      "metadata": {
        "colab": {
          "base_uri": "https://localhost:8080/"
        },
        "id": "UrnYzRQoTYOc",
        "outputId": "7cba09b1-d853-453f-c50a-21cbb9164b87"
      },
      "outputs": [
        {
          "name": "stdout",
          "output_type": "stream",
          "text": [
            "5\n",
            "15\n"
          ]
        }
      ],
      "source": [
        "Sn=0\n",
        "n=int(input())\n",
        "for i in range(1,n+1):\n",
        "  Sn=Sn+i\n",
        "print(Sn)\n",
        "\n"
      ]
    },
    {
      "cell_type": "code",
      "execution_count": null,
      "metadata": {
        "id": "OPfK5O0kTYTD"
      },
      "outputs": [],
      "source": []
    },
    {
      "cell_type": "markdown",
      "metadata": {
        "id": "ilpNhlxRXWfi"
      },
      "source": []
    },
    {
      "cell_type": "markdown",
      "metadata": {
        "id": "P29o1PUyXXUC"
      },
      "source": [
        "Bai M"
      ]
    },
    {
      "cell_type": "code",
      "execution_count": null,
      "metadata": {
        "id": "0pKOk4KSTYV8"
      },
      "outputs": [],
      "source": []
    },
    {
      "cell_type": "code",
      "execution_count": null,
      "metadata": {
        "colab": {
          "base_uri": "https://localhost:8080/"
        },
        "id": "3a73RrmlhSFB",
        "outputId": "f6d90ff6-b930-4078-829e-704504703493"
      },
      "outputs": [
        {
          "name": "stdout",
          "output_type": "stream",
          "text": [
            "5\n",
            "7 8 0\n",
            "7 8 0 "
          ]
        }
      ],
      "source": [
        "n=int(input())\n",
        "a=list(map(int,input().split()))\n",
        "for i in range(len(a)):\n",
        "  print(a[i],end=' ')"
      ]
    },
    {
      "cell_type": "code",
      "execution_count": null,
      "metadata": {
        "id": "wzzgD_sqhSHs"
      },
      "outputs": [],
      "source": []
    },
    {
      "cell_type": "code",
      "execution_count": null,
      "metadata": {
        "id": "AEdtBgYIhSKp"
      },
      "outputs": [],
      "source": []
    },
    {
      "cell_type": "code",
      "execution_count": null,
      "metadata": {
        "colab": {
          "base_uri": "https://localhost:8080/"
        },
        "id": "LId0vOl6TYYz",
        "outputId": "065f032f-14cb-4d32-8422-6c12ba786b1c"
      },
      "outputs": [
        {
          "name": "stdout",
          "output_type": "stream",
          "text": [
            "[2]\n"
          ]
        }
      ],
      "source": [
        "n=5\n",
        "a=[2]\n",
        "print(a)"
      ]
    },
    {
      "cell_type": "code",
      "execution_count": null,
      "metadata": {
        "colab": {
          "base_uri": "https://localhost:8080/"
        },
        "id": "eyh_kbqqTYc8",
        "outputId": "bc3f49cf-dfe0-4c39-e4fd-9f96e4c29815"
      },
      "outputs": [
        {
          "name": "stdout",
          "output_type": "stream",
          "text": [
            "1 2 3\n"
          ]
        }
      ],
      "source": [
        "a,b,c=map(int,input().split())"
      ]
    },
    {
      "cell_type": "code",
      "execution_count": null,
      "metadata": {
        "colab": {
          "base_uri": "https://localhost:8080/"
        },
        "id": "TXrNooB6QNeJ",
        "outputId": "cf9e5f30-926e-4328-8e22-a86d3850d720"
      },
      "outputs": [
        {
          "name": "stdout",
          "output_type": "stream",
          "text": [
            "1\n"
          ]
        }
      ],
      "source": [
        "print(a)"
      ]
    },
    {
      "cell_type": "markdown",
      "metadata": {
        "id": "96vnCN2NTYrk"
      },
      "source": [
        "bai L"
      ]
    },
    {
      "cell_type": "code",
      "execution_count": null,
      "metadata": {
        "colab": {
          "base_uri": "https://localhost:8080/"
        },
        "id": "UGEw4oXKYmYJ",
        "outputId": "4b12f503-bdcf-42fa-f410-ecfd6dc96bef"
      },
      "outputs": [
        {
          "name": "stdout",
          "output_type": "stream",
          "text": [
            "6 5\n",
            "4 3\n",
            "-10 6\n",
            "NO\n"
          ]
        }
      ],
      "source": [
        "x1,y1=map(int,input().split())\n",
        "x2,y2=map(int,input().split())\n",
        "x3,y3=map(int,input().split())\n",
        "if(x1*y2*1+y1*1*x3+1*x2*y3)-(1*y2*x3+x1*1*y3+y1*x2*1)==0:\n",
        "  print('YES')\n",
        "else:\n",
        "  print('NO')"
      ]
    },
    {
      "cell_type": "markdown",
      "metadata": {
        "id": "jX1_ZqhQcNxY"
      },
      "source": [
        "Bai o"
      ]
    },
    {
      "cell_type": "code",
      "execution_count": null,
      "metadata": {
        "id": "YbjgFZdEYmgz"
      },
      "outputs": [],
      "source": []
    },
    {
      "cell_type": "code",
      "execution_count": null,
      "metadata": {
        "colab": {
          "base_uri": "https://localhost:8080/"
        },
        "id": "wzOk09RHYmeR",
        "outputId": "f425595a-cdab-4bf0-9abd-978de4ec058f"
      },
      "outputs": [
        {
          "name": "stdout",
          "output_type": "stream",
          "text": [
            "5\n",
            "-1 -1 -3 -4 -6\n",
            "0\n",
            "Day so khong co phan tu duong\n"
          ]
        }
      ],
      "source": [
        "n = int(input())\n",
        "a = list(map(int,input().split()))\n",
        "m = []\n",
        "for i in a:\n",
        "  if i > 0:\n",
        "        m.append(i)\n",
        "if len(m) > 0:\n",
        "  print(len(m))\n",
        "  print(*m)\n",
        "else:\n",
        "    print(\"Day so khong co phan tu duong\")"
      ]
    },
    {
      "cell_type": "markdown",
      "metadata": {
        "id": "NsEOMLihOkUW"
      },
      "source": [
        "Bai s"
      ]
    },
    {
      "cell_type": "code",
      "execution_count": null,
      "metadata": {
        "colab": {
          "base_uri": "https://localhost:8080/"
        },
        "id": "4fovPBrDBetl",
        "outputId": "b5ad5314-ddf7-4e53-f189-4ff302ec9930"
      },
      "outputs": [
        {
          "name": "stdout",
          "output_type": "stream",
          "text": [
            "5\n",
            "khong\n",
            "khong\n",
            "khong\n"
          ]
        }
      ],
      "source": [
        "import math\n",
        "n=int(input())\n",
        "if n < 0:\n",
        "  print('khong')\n",
        "elif n < 2:\n",
        "  print('khong')\n",
        "else:\n",
        "  for i in range (2,int(math.sqrt(n))+1):\n",
        "    if n % i == 0:\n",
        "      print('khong')\n",
        "      break\n",
        "  else:\n",
        "    print('co')"
      ]
    },
    {
      "cell_type": "markdown",
      "metadata": {
        "id": "cFDhf4xORP8h"
      },
      "source": [
        "Bai p"
      ]
    },
    {
      "cell_type": "markdown",
      "metadata": {
        "id": "eTj4wPDKI3k5"
      },
      "source": []
    },
    {
      "cell_type": "code",
      "execution_count": null,
      "metadata": {
        "colab": {
          "base_uri": "https://localhost:8080/"
        },
        "id": "P60fMCa3Be0S",
        "outputId": "2502667f-b262-4758-db5b-9f91162e5507"
      },
      "outputs": [
        {
          "name": "stdout",
          "output_type": "stream",
          "text": [
            "3\n",
            "1 2 3\n",
            "0 1 2\n",
            "8\n"
          ]
        }
      ],
      "source": [
        "n = int(input())\n",
        "x = list(map(int, input().split()))\n",
        "y = list(map(int, input().split()))\n",
        "dot_product  = 0\n",
        "for i in range(n):\n",
        " dot_product += x[i]*y[i]\n",
        "print(dot_product)"
      ]
    },
    {
      "cell_type": "code",
      "execution_count": null,
      "metadata": {
        "colab": {
          "base_uri": "https://localhost:8080/"
        },
        "id": "4t5ZEyRJBe2_",
        "outputId": "474400a7-15fe-49f9-bd69-658f5bf7762a"
      },
      "outputs": [
        {
          "name": "stdout",
          "output_type": "stream",
          "text": [
            "3\n",
            "1 2 3\n",
            "0 1 2 \n",
            "8\n"
          ]
        }
      ],
      "source": [
        "\n",
        "n = int(input())\n",
        "x = list(map(int, input().split()))\n",
        "y = list(map(int, input().split()))\n",
        "dot_product = 0\n",
        "for i in range(n):\n",
        "    dot_product += x[i] * y[i]\n",
        "print(dot_product)\n"
      ]
    },
    {
      "cell_type": "code",
      "execution_count": null,
      "metadata": {
        "colab": {
          "base_uri": "https://localhost:8080/"
        },
        "id": "A1FJ74yb37dG",
        "outputId": "b4dd9dfa-b898-4be1-d2d4-a87ddb4a7f28"
      },
      "outputs": [
        {
          "name": "stdout",
          "output_type": "stream",
          "text": [
            "5\n",
            "-1 -2 -3 -4 -5\n",
            "4\n",
            "1 2 3 4\n"
          ]
        }
      ],
      "source": []
    },
    {
      "cell_type": "markdown",
      "metadata": {
        "id": "Tzr-kNtrBrv5"
      },
      "source": []
    },
    {
      "cell_type": "markdown",
      "metadata": {
        "id": "BDZOjwimBs9E"
      },
      "source": [
        "Bai u"
      ]
    },
    {
      "cell_type": "code",
      "execution_count": null,
      "metadata": {
        "colab": {
          "base_uri": "https://localhost:8080/"
        },
        "id": "a3npyCkT37fq",
        "outputId": "e4b1a45d-d27f-40a9-a375-efff269a5381"
      },
      "outputs": [
        {
          "name": "stdout",
          "output_type": "stream",
          "text": [
            "3\n",
            "1 2 9\n",
            "4.000\n"
          ]
        }
      ],
      "source": [
        "n = int(input())\n",
        "a = list(map(int, input().split()))\n",
        "s=0\n",
        "tb=0\n",
        "for i in range(n):\n",
        "  s=s+a[i]\n",
        "  tb=s/n\n",
        "print('%0.3f'%tb)\n"
      ]
    },
    {
      "cell_type": "markdown",
      "metadata": {
        "id": "Gp_CgU5SNWPr"
      },
      "source": [
        "Bai Q"
      ]
    },
    {
      "cell_type": "code",
      "execution_count": null,
      "metadata": {
        "colab": {
          "base_uri": "https://localhost:8080/"
        },
        "id": "yt9Tpi2j37ks",
        "outputId": "0bf3527e-76e0-4a85-e4bd-6e4d8babf8b1"
      },
      "outputs": [
        {
          "output_type": "stream",
          "name": "stdout",
          "text": [
            "5\n",
            "1 -2 -3 0 9\n",
            "3.333\n"
          ]
        }
      ],
      "source": [
        "n = int(input())\n",
        "a = list(map(int, input().split()))\n",
        "m=[]\n",
        "s=0\n",
        "tb=0\n",
        "for i in a:\n",
        "  if i>=0:\n",
        "    m.append(i)\n",
        "    s += i\n",
        "    tb=s/len(m)\n",
        "print('%0.3f'%tb)\n"
      ]
    },
    {
      "cell_type": "markdown",
      "source": [
        "Bai R"
      ],
      "metadata": {
        "id": "1mGzTmo6ZC-w"
      }
    },
    {
      "cell_type": "code",
      "execution_count": null,
      "metadata": {
        "id": "EIUPwjGH37o2",
        "colab": {
          "base_uri": "https://localhost:8080/"
        },
        "outputId": "3b2d77b9-136c-45a3-d935-abe1df05b9f4"
      },
      "outputs": [
        {
          "output_type": "stream",
          "name": "stdout",
          "text": [
            "5\n",
            "1 2 -2 2 1\n",
            "3\n",
            "-2 1\n",
            "1 2\n",
            "2 2\n"
          ]
        }
      ],
      "source": [
        "n = int(input())\n",
        "a = list(map(int, input().split()))\n",
        "x={}\n",
        "for i in a:\n",
        " if i in x:\n",
        "  x[i] +=1\n",
        " else:\n",
        "  x[i]=1\n",
        "m = list(x.keys())\n",
        "m.sort()\n",
        "print(len(m))\n",
        "for y in m:\n",
        "  print(y,x[y])\n",
        "\n"
      ]
    },
    {
      "cell_type": "code",
      "source": [
        "x={1:10,'2':20}"
      ],
      "metadata": {
        "id": "l8OOA5Rrz2iQ"
      },
      "execution_count": null,
      "outputs": []
    },
    {
      "cell_type": "code",
      "source": [
        "x[1]"
      ],
      "metadata": {
        "colab": {
          "base_uri": "https://localhost:8080/"
        },
        "id": "Wmxtx5iK0Fga",
        "outputId": "ab4b1a44-35eb-45fc-b8d3-6d81108cff3f"
      },
      "execution_count": null,
      "outputs": [
        {
          "output_type": "execute_result",
          "data": {
            "text/plain": [
              "10"
            ]
          },
          "metadata": {},
          "execution_count": 9
        }
      ]
    },
    {
      "cell_type": "markdown",
      "source": [
        "bai T"
      ],
      "metadata": {
        "id": "0Up2XYV6iQ4Q"
      }
    },
    {
      "cell_type": "code",
      "source": [
        "n,x = map(int,input().split())\n",
        "a = list(map(int, input().split()))\n",
        "k=[]\n",
        "for i in a:\n",
        " if i > x:\n",
        "  k.append(i)\n",
        "print(len(k))\n"
      ],
      "metadata": {
        "colab": {
          "base_uri": "https://localhost:8080/"
        },
        "id": "I2aMvdqwiQHA",
        "outputId": "9ede415f-d28d-4b9f-9750-a4236e33f77c"
      },
      "execution_count": null,
      "outputs": [
        {
          "output_type": "stream",
          "name": "stdout",
          "text": [
            "5 3\n",
            "1 2 3 4 5\n",
            "2\n"
          ]
        }
      ]
    },
    {
      "cell_type": "code",
      "source": [
        "n1, n2 = map(int,input().split())\n",
        "n=0\n",
        "m=[]\n",
        "while n1 <= n**2 - 100*n + 1 <= n2:\n",
        "  n +=n\n",
        "  m.append(n)\n",
        "if len(m)>=1:\n",
        "  print(len(m))\n",
        "print(m)"
      ],
      "metadata": {
        "id": "CVKRawZ5iQJt",
        "colab": {
          "base_uri": "https://localhost:8080/"
        },
        "outputId": "8351a1ba-674b-4d9d-b45d-de178c298481"
      },
      "execution_count": null,
      "outputs": [
        {
          "name": "stdout",
          "output_type": "stream",
          "text": [
            "0 100\n"
          ]
        }
      ]
    },
    {
      "cell_type": "code",
      "source": [
        "print(4)"
      ],
      "metadata": {
        "id": "JNy8d8r8Gf0_"
      },
      "execution_count": null,
      "outputs": []
    }
  ],
  "metadata": {
    "colab": {
      "provenance": []
    },
    "kernelspec": {
      "display_name": "Python 3",
      "name": "python3"
    },
    "language_info": {
      "name": "python"
    }
  },
  "nbformat": 4,
  "nbformat_minor": 0
}