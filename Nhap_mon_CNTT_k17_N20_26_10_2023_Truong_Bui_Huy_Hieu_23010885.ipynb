{
  "nbformat": 4,
  "nbformat_minor": 0,
  "metadata": {
    "colab": {
      "provenance": []
    },
    "kernelspec": {
      "name": "python3",
      "display_name": "Python 3"
    },
    "language_info": {
      "name": "python"
    }
  },
  "cells": [
    {
      "cell_type": "markdown",
      "source": [],
      "metadata": {
        "id": "JfMSw_ttPzGo"
      }
    },
    {
      "cell_type": "code",
      "execution_count": null,
      "metadata": {
        "id": "qaeBOivGBdNN",
        "colab": {
          "base_uri": "https://localhost:8080/"
        },
        "outputId": "fcb148e0-a04a-4f4c-a8d7-3b7aa53acd14"
      },
      "outputs": [
        {
          "output_type": "stream",
          "name": "stdout",
          "text": [
            "Hello world\n"
          ]
        }
      ],
      "source": [
        "print('Hello world')"
      ]
    },
    {
      "cell_type": "code",
      "source": [
        "x=1\n"
      ],
      "metadata": {
        "id": "u13i9zcKQgGX"
      },
      "execution_count": null,
      "outputs": []
    },
    {
      "cell_type": "code",
      "source": [
        "print(type(x))"
      ],
      "metadata": {
        "colab": {
          "base_uri": "https://localhost:8080/",
          "height": 175
        },
        "id": "_AuxX5ZiQgIf",
        "outputId": "46baf1d9-7df1-49e8-e9d3-4c156d99e961"
      },
      "execution_count": null,
      "outputs": [
        {
          "output_type": "error",
          "ename": "NameError",
          "evalue": "ignored",
          "traceback": [
            "\u001b[0;31m---------------------------------------------------------------------------\u001b[0m",
            "\u001b[0;31mNameError\u001b[0m                                 Traceback (most recent call last)",
            "\u001b[0;32m<ipython-input-2-064a89a7af76>\u001b[0m in \u001b[0;36m<cell line: 1>\u001b[0;34m()\u001b[0m\n\u001b[0;32m----> 1\u001b[0;31m \u001b[0mprint\u001b[0m\u001b[0;34m(\u001b[0m\u001b[0mtype\u001b[0m\u001b[0;34m(\u001b[0m\u001b[0mx\u001b[0m\u001b[0;34m)\u001b[0m\u001b[0;34m)\u001b[0m\u001b[0;34m\u001b[0m\u001b[0;34m\u001b[0m\u001b[0m\n\u001b[0m",
            "\u001b[0;31mNameError\u001b[0m: name 'x' is not defined"
          ]
        }
      ]
    },
    {
      "cell_type": "code",
      "source": [
        "x=1.2\n",
        "print(type(x))\n"
      ],
      "metadata": {
        "colab": {
          "base_uri": "https://localhost:8080/"
        },
        "id": "lmVimToZQgKn",
        "outputId": "1c7eafbd-dc6a-4936-f8d0-ebd9fd3a790a"
      },
      "execution_count": null,
      "outputs": [
        {
          "output_type": "stream",
          "name": "stdout",
          "text": [
            "<class 'float'>\n"
          ]
        }
      ]
    },
    {
      "cell_type": "code",
      "source": [
        "z=3+ 4j\n",
        "print(type(z))\n"
      ],
      "metadata": {
        "colab": {
          "base_uri": "https://localhost:8080/"
        },
        "id": "HXNvW7qzQgM_",
        "outputId": "0477b18f-ab9f-4f58-848d-e099a48244ed"
      },
      "execution_count": null,
      "outputs": [
        {
          "output_type": "stream",
          "name": "stdout",
          "text": [
            "<class 'complex'>\n"
          ]
        }
      ]
    },
    {
      "cell_type": "code",
      "source": [
        "z=1+3*1j\n",
        "print(z)"
      ],
      "metadata": {
        "colab": {
          "base_uri": "https://localhost:8080/"
        },
        "id": "2lvp-qhhQgPP",
        "outputId": "bcc54869-6362-4f2c-c051-95b2378889b7"
      },
      "execution_count": null,
      "outputs": [
        {
          "output_type": "stream",
          "name": "stdout",
          "text": [
            "(1+3j)\n"
          ]
        }
      ]
    },
    {
      "cell_type": "code",
      "source": [
        "a=5\n",
        "b=2\n",
        "c=a+b\n",
        "print(\"c=\",c)"
      ],
      "metadata": {
        "colab": {
          "base_uri": "https://localhost:8080/"
        },
        "id": "kn3f2CaYQgRo",
        "outputId": "99887756-6077-4047-80eb-b5484d7e6a62"
      },
      "execution_count": null,
      "outputs": [
        {
          "output_type": "stream",
          "name": "stdout",
          "text": [
            "c= 7\n"
          ]
        }
      ]
    },
    {
      "cell_type": "code",
      "source": [
        "a=5\n",
        "b=2\n",
        "c=a-b\n",
        "print(\"c=\",c)\n"
      ],
      "metadata": {
        "colab": {
          "base_uri": "https://localhost:8080/"
        },
        "id": "FO1uW2-cQgUA",
        "outputId": "a327cbd2-1a4b-42d0-d18f-cd6187c7a8af"
      },
      "execution_count": null,
      "outputs": [
        {
          "output_type": "stream",
          "name": "stdout",
          "text": [
            "c= 3\n"
          ]
        }
      ]
    },
    {
      "cell_type": "code",
      "source": [
        "a=6\n",
        "b=5\n",
        "c=a*b\n",
        "print(\"c=\",c)\n"
      ],
      "metadata": {
        "colab": {
          "base_uri": "https://localhost:8080/"
        },
        "id": "RVRlb1Q4QgWn",
        "outputId": "9f03c66a-e3b4-4bae-d672-877f685c179c"
      },
      "execution_count": null,
      "outputs": [
        {
          "output_type": "stream",
          "name": "stdout",
          "text": [
            "c= 30\n"
          ]
        }
      ]
    },
    {
      "cell_type": "code",
      "source": [
        "a=6\n",
        "b=2\n",
        "c=a/b\n",
        "print(\"c=\",c)"
      ],
      "metadata": {
        "colab": {
          "base_uri": "https://localhost:8080/"
        },
        "id": "9WPQbvJIQgY3",
        "outputId": "6d91e2b6-ee2f-4eb8-e571-4774fbc7ac8e"
      },
      "execution_count": null,
      "outputs": [
        {
          "output_type": "stream",
          "name": "stdout",
          "text": [
            "c= 3.0\n"
          ]
        }
      ]
    },
    {
      "cell_type": "code",
      "source": [
        "a=10\n",
        "b=3\n",
        "c=a//b\n",
        "print(\"c=\",c)"
      ],
      "metadata": {
        "colab": {
          "base_uri": "https://localhost:8080/"
        },
        "id": "d86n24MJQgbX",
        "outputId": "55e8e65c-a516-4167-f1f5-a2b183b8a58b"
      },
      "execution_count": null,
      "outputs": [
        {
          "output_type": "stream",
          "name": "stdout",
          "text": [
            "c= 3\n"
          ]
        }
      ]
    },
    {
      "cell_type": "code",
      "source": [
        "a=10\n",
        "b=3\n",
        "c=a%b\n",
        "print(\"c=\",c)"
      ],
      "metadata": {
        "colab": {
          "base_uri": "https://localhost:8080/"
        },
        "id": "0uY4zk2vRttP",
        "outputId": "52b60e06-6e0d-4296-f681-0b11282fe476"
      },
      "execution_count": null,
      "outputs": [
        {
          "output_type": "stream",
          "name": "stdout",
          "text": [
            "c= 1\n"
          ]
        }
      ]
    },
    {
      "cell_type": "code",
      "source": [
        "a=4\n",
        "b=3\n",
        "c=a**b\n",
        "print(\"c=\",c)\n",
        "\n"
      ],
      "metadata": {
        "colab": {
          "base_uri": "https://localhost:8080/"
        },
        "id": "4OXKbdsfRt2f",
        "outputId": "07edf0bd-a08d-4446-8164-14f430df1a78"
      },
      "execution_count": null,
      "outputs": [
        {
          "output_type": "stream",
          "name": "stdout",
          "text": [
            "c= 64\n"
          ]
        }
      ]
    },
    {
      "cell_type": "code",
      "source": [
        "import math\n",
        "x=16\n",
        "y=math.sqrt(x)\n",
        "print(\"y=\",y)"
      ],
      "metadata": {
        "colab": {
          "base_uri": "https://localhost:8080/"
        },
        "id": "yoWvePYgRt5X",
        "outputId": "d84a3a9a-d44e-4311-b2be-332fb929d93b"
      },
      "execution_count": null,
      "outputs": [
        {
          "output_type": "stream",
          "name": "stdout",
          "text": [
            "y= 4.0\n"
          ]
        }
      ]
    },
    {
      "cell_type": "code",
      "source": [
        "import numpy\n",
        "x=9\n",
        "y=numpy.sqrt(x)\n",
        "print(\"y=\",y)"
      ],
      "metadata": {
        "colab": {
          "base_uri": "https://localhost:8080/"
        },
        "id": "GlXO8mURRt9o",
        "outputId": "eeda6b20-28d5-43db-ad60-ea1f7b8bf859"
      },
      "execution_count": null,
      "outputs": [
        {
          "output_type": "stream",
          "name": "stdout",
          "text": [
            "y= 3.0\n"
          ]
        }
      ]
    },
    {
      "cell_type": "code",
      "source": [
        "import math\n",
        "pi=math.pi\n",
        "cos=math .cos\n",
        "sin=math.sin\n",
        "tan=math.tan\n",
        "x=pi/3\n",
        "y=cos(x)\n",
        "print(\"y=\",y)\n"
      ],
      "metadata": {
        "colab": {
          "base_uri": "https://localhost:8080/"
        },
        "id": "I6XAHMwrRuAQ",
        "outputId": "6cd4133b-83b9-4bb2-8ff0-498b72f58db7"
      },
      "execution_count": null,
      "outputs": [
        {
          "output_type": "stream",
          "name": "stdout",
          "text": [
            "y= 0.5000000000000001\n"
          ]
        }
      ]
    },
    {
      "cell_type": "code",
      "source": [
        "x=pi/6\n",
        "y=sin(x)\n",
        "print(\"y=\",y)"
      ],
      "metadata": {
        "colab": {
          "base_uri": "https://localhost:8080/"
        },
        "id": "LgYRv4VrRuCv",
        "outputId": "6940e1b6-1e69-44e0-a2e8-e00ce2e7b768"
      },
      "execution_count": null,
      "outputs": [
        {
          "output_type": "stream",
          "name": "stdout",
          "text": [
            "y= 0.49999999999999994\n"
          ]
        }
      ]
    },
    {
      "cell_type": "code",
      "source": [
        "x=pi/6\n",
        "y=math.sin(x)\n",
        "print(\"y=\",y)\n"
      ],
      "metadata": {
        "colab": {
          "base_uri": "https://localhost:8080/"
        },
        "id": "MxjM5iUlRuHP",
        "outputId": "34088270-56e5-47b0-a478-51ce034d8d46"
      },
      "execution_count": null,
      "outputs": [
        {
          "output_type": "stream",
          "name": "stdout",
          "text": [
            "y= 0.49999999999999994\n"
          ]
        }
      ]
    },
    {
      "cell_type": "code",
      "source": [
        "x=pi/4\n",
        "y=tan(x)\n",
        "print(\"y=\",y)"
      ],
      "metadata": {
        "colab": {
          "base_uri": "https://localhost:8080/"
        },
        "id": "I1CbvuOHRuLH",
        "outputId": "50a5bad9-4862-4f6a-f59a-943fb4c2a569"
      },
      "execution_count": null,
      "outputs": [
        {
          "output_type": "stream",
          "name": "stdout",
          "text": [
            "y= 0.9999999999999999\n"
          ]
        }
      ]
    },
    {
      "cell_type": "code",
      "source": [
        "import math\n",
        "x=1\n",
        "y=math.exp(x)\n",
        "print(\"y=\",y)\n",
        "exp=math.exp\n",
        "x=1\n",
        "y=exp(x)\n",
        "print(\"y=\",y)\n"
      ],
      "metadata": {
        "colab": {
          "base_uri": "https://localhost:8080/"
        },
        "id": "zAm4BlhuRuOH",
        "outputId": "5d884776-c53a-47c6-af57-e5bf8912bd74"
      },
      "execution_count": null,
      "outputs": [
        {
          "output_type": "stream",
          "name": "stdout",
          "text": [
            "y= 2.718281828459045\n",
            "y= 2.718281828459045\n"
          ]
        }
      ]
    },
    {
      "cell_type": "code",
      "source": [
        "import math\n",
        "cosh=math.cosh\n",
        "\n",
        "x=-1\n",
        "y=cosh(x)\n",
        "print(\"y=\",y)\n"
      ],
      "metadata": {
        "colab": {
          "base_uri": "https://localhost:8080/"
        },
        "id": "CqhNjU4HTv8Y",
        "outputId": "47552ed2-8f72-460e-c7d0-12d3fa8e8977"
      },
      "execution_count": null,
      "outputs": [
        {
          "output_type": "stream",
          "name": "stdout",
          "text": [
            "y= 1.5430806348152437\n"
          ]
        }
      ]
    },
    {
      "cell_type": "code",
      "source": [
        "import math\n",
        "sinh=math.sinh\n",
        "x=-1\n",
        "y=sinh(x)\n",
        "print(\"y=\",y)\n"
      ],
      "metadata": {
        "colab": {
          "base_uri": "https://localhost:8080/"
        },
        "id": "0k-Hhe3wTv_Y",
        "outputId": "e377033c-4f8f-4f96-f034-5316fc306a76"
      },
      "execution_count": null,
      "outputs": [
        {
          "output_type": "stream",
          "name": "stdout",
          "text": [
            "y= -1.1752011936438014\n"
          ]
        }
      ]
    },
    {
      "cell_type": "code",
      "source": [
        "import math\n",
        "tanh=math.tanh"
      ],
      "metadata": {
        "id": "H1UQKMZaTwHZ"
      },
      "execution_count": null,
      "outputs": []
    },
    {
      "cell_type": "code",
      "source": [
        "x=1\n",
        "y=tanh(x)\n",
        "print(\"y=\",y)"
      ],
      "metadata": {
        "colab": {
          "base_uri": "https://localhost:8080/"
        },
        "id": "Sl-P5oTkTwKA",
        "outputId": "73e19514-99ee-4c73-95cd-60aea31333ad"
      },
      "execution_count": null,
      "outputs": [
        {
          "output_type": "stream",
          "name": "stdout",
          "text": [
            "y= 0.7615941559557649\n"
          ]
        }
      ]
    },
    {
      "cell_type": "code",
      "source": [
        "import math\n",
        "ln=math.log\n"
      ],
      "metadata": {
        "id": "njBgQXrzTwMX"
      },
      "execution_count": null,
      "outputs": []
    },
    {
      "cell_type": "code",
      "source": [
        "x=exp(2)\n",
        "y=ln(x)\n",
        "print(\"y=\",y)"
      ],
      "metadata": {
        "colab": {
          "base_uri": "https://localhost:8080/"
        },
        "id": "VKPJbbuMTwQz",
        "outputId": "fd6665af-d5cb-4661-d9f0-406e613e2ed2"
      },
      "execution_count": null,
      "outputs": [
        {
          "output_type": "stream",
          "name": "stdout",
          "text": [
            "y= 2.0\n"
          ]
        }
      ]
    },
    {
      "cell_type": "code",
      "source": [
        "import math\n"
      ],
      "metadata": {
        "id": "oYos-uhnTwTq"
      },
      "execution_count": null,
      "outputs": []
    },
    {
      "cell_type": "code",
      "source": [
        "x=1000\n",
        "y=math.log10(x)\n",
        "print(\"y=\",y)"
      ],
      "metadata": {
        "colab": {
          "base_uri": "https://localhost:8080/"
        },
        "id": "uVSPGx3gTwYI",
        "outputId": "de0abf4f-9163-4689-bd43-11b846889c18"
      },
      "execution_count": null,
      "outputs": [
        {
          "output_type": "stream",
          "name": "stdout",
          "text": [
            "y= 3.0\n"
          ]
        }
      ]
    },
    {
      "cell_type": "code",
      "source": [
        "import math\n",
        "x=8\n",
        "y=math.log2(x)\n",
        "print(\"y=\",y)\n"
      ],
      "metadata": {
        "colab": {
          "base_uri": "https://localhost:8080/"
        },
        "id": "fMn1WXJ1Uk3_",
        "outputId": "a49223f6-5d98-4163-bcb8-8959c1c0b425"
      },
      "execution_count": null,
      "outputs": [
        {
          "output_type": "stream",
          "name": "stdout",
          "text": [
            "y= 3.0\n"
          ]
        }
      ]
    },
    {
      "cell_type": "code",
      "source": [
        "import matplotlib.pyplot as plt\n"
      ],
      "metadata": {
        "id": "v6cwKytAUk64"
      },
      "execution_count": null,
      "outputs": []
    },
    {
      "cell_type": "code",
      "source": [
        "import numpy as np\n"
      ],
      "metadata": {
        "id": "MsS03YuCUlAv"
      },
      "execution_count": null,
      "outputs": []
    },
    {
      "cell_type": "code",
      "source": [
        "x=np.linspace(0,pi,100)\n",
        "print(x)\n"
      ],
      "metadata": {
        "colab": {
          "base_uri": "https://localhost:8080/"
        },
        "id": "4iTShtkAUlC6",
        "outputId": "0bb695cb-531a-4b51-99ad-b33c03466bea"
      },
      "execution_count": null,
      "outputs": [
        {
          "output_type": "stream",
          "name": "stdout",
          "text": [
            "[0.         0.03173326 0.06346652 0.09519978 0.12693304 0.1586663\n",
            " 0.19039955 0.22213281 0.25386607 0.28559933 0.31733259 0.34906585\n",
            " 0.38079911 0.41253237 0.44426563 0.47599889 0.50773215 0.53946541\n",
            " 0.57119866 0.60293192 0.63466518 0.66639844 0.6981317  0.72986496\n",
            " 0.76159822 0.79333148 0.82506474 0.856798   0.88853126 0.92026451\n",
            " 0.95199777 0.98373103 1.01546429 1.04719755 1.07893081 1.11066407\n",
            " 1.14239733 1.17413059 1.20586385 1.23759711 1.26933037 1.30106362\n",
            " 1.33279688 1.36453014 1.3962634  1.42799666 1.45972992 1.49146318\n",
            " 1.52319644 1.5549297  1.58666296 1.61839622 1.65012947 1.68186273\n",
            " 1.71359599 1.74532925 1.77706251 1.80879577 1.84052903 1.87226229\n",
            " 1.90399555 1.93572881 1.96746207 1.99919533 2.03092858 2.06266184\n",
            " 2.0943951  2.12612836 2.15786162 2.18959488 2.22132814 2.2530614\n",
            " 2.28479466 2.31652792 2.34826118 2.37999443 2.41172769 2.44346095\n",
            " 2.47519421 2.50692747 2.53866073 2.57039399 2.60212725 2.63386051\n",
            " 2.66559377 2.69732703 2.72906028 2.76079354 2.7925268  2.82426006\n",
            " 2.85599332 2.88772658 2.91945984 2.9511931  2.98292636 3.01465962\n",
            " 3.04639288 3.07812614 3.10985939 3.14159265]\n"
          ]
        }
      ]
    },
    {
      "cell_type": "code",
      "source": [
        "x=np.linspace(-3,3,100)\n",
        "y=np.sin(x)\n",
        "print(y)"
      ],
      "metadata": {
        "colab": {
          "base_uri": "https://localhost:8080/"
        },
        "id": "N6XOaR8CUlHg",
        "outputId": "c62ffa40-b87c-4606-c5ec-7cc524966f56"
      },
      "execution_count": null,
      "outputs": [
        {
          "output_type": "stream",
          "name": "stdout",
          "text": [
            "[-0.14112001 -0.20082374 -0.25979004 -0.31780241 -0.37464782 -0.43011753\n",
            " -0.48400786 -0.53612093 -0.58626538 -0.63425707 -0.6799198  -0.72308588\n",
            " -0.76359681 -0.80130384 -0.8360685  -0.86776314 -0.89627139 -0.92148855\n",
            " -0.94332203 -0.96169166 -0.97652999 -0.98778253 -0.99540796 -0.99937828\n",
            " -0.99967891 -0.99630876 -0.98928018 -0.978619   -0.96436436 -0.9465686\n",
            " -0.92529707 -0.90062788 -0.87265161 -0.84147098 -0.8072005  -0.76996601\n",
            " -0.72990422 -0.68716224 -0.64189703 -0.59427479 -0.54447039 -0.49266671\n",
            " -0.43905397 -0.38382904 -0.3271947  -0.26935891 -0.21053404 -0.1509361\n",
            " -0.09078392 -0.03029839  0.03029839  0.09078392  0.1509361   0.21053404\n",
            "  0.26935891  0.3271947   0.38382904  0.43905397  0.49266671  0.54447039\n",
            "  0.59427479  0.64189703  0.68716224  0.72990422  0.76996601  0.8072005\n",
            "  0.84147098  0.87265161  0.90062788  0.92529707  0.9465686   0.96436436\n",
            "  0.978619    0.98928018  0.99630876  0.99967891  0.99937828  0.99540796\n",
            "  0.98778253  0.97652999  0.96169166  0.94332203  0.92148855  0.89627139\n",
            "  0.86776314  0.8360685   0.80130384  0.76359681  0.72308588  0.6799198\n",
            "  0.63425707  0.58626538  0.53612093  0.48400786  0.43011753  0.37464782\n",
            "  0.31780241  0.25979004  0.20082374  0.14112001]\n"
          ]
        }
      ]
    },
    {
      "cell_type": "code",
      "source": [
        "x=np.linspace(-3,3,100)\n",
        "y=np.cosh(x)\n",
        "plt.plot(x,y)\n",
        "plt.xlabel('x')\n",
        "plt.ylabel('y')"
      ],
      "metadata": {
        "colab": {
          "base_uri": "https://localhost:8080/",
          "height": 466
        },
        "id": "zPencPpBUlJv",
        "outputId": "d7535707-33a5-4635-fa98-58b3ceb699e2"
      },
      "execution_count": null,
      "outputs": [
        {
          "output_type": "execute_result",
          "data": {
            "text/plain": [
              "Text(0, 0.5, 'y')"
            ]
          },
          "metadata": {},
          "execution_count": 37
        },
        {
          "output_type": "display_data",
          "data": {
            "text/plain": [
              "<Figure size 640x480 with 1 Axes>"
            ],
            "image/png": "[encoded data removed]"
          },
          "metadata": {}
        }
      ]
    },
    {
      "cell_type": "code",
      "source": [],
      "metadata": {
        "id": "S9bz2D1oUlMI"
      },
      "execution_count": null,
      "outputs": []
    },
    {
      "cell_type": "code",
      "source": [
        "import math\n"
      ],
      "metadata": {
        "id": "N12CQRJ7UlN4"
      },
      "execution_count": null,
      "outputs": []
    },
    {
      "cell_type": "code",
      "source": [
        "\n",
        "pi=math.pi\n",
        "cos = math.cos\n",
        "sinh=math.sinh\n",
        "cosh=math.cosh\n",
        "ln=math.log\n",
        "sqrt=math.sqrt\n",
        "exp=math.exp\n"
      ],
      "metadata": {
        "id": "tizOPna0UlQJ"
      },
      "execution_count": null,
      "outputs": []
    },
    {
      "cell_type": "code",
      "source": [
        "x=pi/4\n",
        "y=cos(x)*sqrt(x*x+exp(x))+sqrt(exp(X)+1)/(1+cosh*cosh(X))*sinh(x)+ln(sqrt(x)+exp(x))\n",
        "print(\"y=\", y)"
      ],
      "metadata": {
        "colab": {
          "base_uri": "https://localhost:8080/",
          "height": 210
        },
        "id": "ggHczAogY2yv",
        "outputId": "748c3de3-0a06-4a4f-cba7-3a1a321a9867"
      },
      "execution_count": null,
      "outputs": [
        {
          "output_type": "error",
          "ename": "NameError",
          "evalue": "ignored",
          "traceback": [
            "\u001b[0;31m---------------------------------------------------------------------------\u001b[0m",
            "\u001b[0;31mNameError\u001b[0m                                 Traceback (most recent call last)",
            "\u001b[0;32m<ipython-input-51-3a4486804789>\u001b[0m in \u001b[0;36m<cell line: 2>\u001b[0;34m()\u001b[0m\n\u001b[1;32m      1\u001b[0m \u001b[0mx\u001b[0m\u001b[0;34m=\u001b[0m\u001b[0mpi\u001b[0m\u001b[0;34m/\u001b[0m\u001b[0;36m4\u001b[0m\u001b[0;34m\u001b[0m\u001b[0;34m\u001b[0m\u001b[0m\n\u001b[0;32m----> 2\u001b[0;31m \u001b[0my\u001b[0m\u001b[0;34m=\u001b[0m\u001b[0mcos\u001b[0m\u001b[0;34m(\u001b[0m\u001b[0mx\u001b[0m\u001b[0;34m)\u001b[0m\u001b[0;34m*\u001b[0m\u001b[0msqrt\u001b[0m\u001b[0;34m(\u001b[0m\u001b[0mx\u001b[0m\u001b[0;34m*\u001b[0m\u001b[0mx\u001b[0m\u001b[0;34m+\u001b[0m\u001b[0mexp\u001b[0m\u001b[0;34m(\u001b[0m\u001b[0mx\u001b[0m\u001b[0;34m)\u001b[0m\u001b[0;34m)\u001b[0m\u001b[0;34m+\u001b[0m\u001b[0msqrt\u001b[0m\u001b[0;34m(\u001b[0m\u001b[0mexp\u001b[0m\u001b[0;34m(\u001b[0m\u001b[0mX\u001b[0m\u001b[0;34m)\u001b[0m\u001b[0;34m+\u001b[0m\u001b[0;36m1\u001b[0m\u001b[0;34m)\u001b[0m\u001b[0;34m/\u001b[0m\u001b[0;34m(\u001b[0m\u001b[0;36m1\u001b[0m\u001b[0;34m+\u001b[0m\u001b[0mcosh\u001b[0m\u001b[0;34m*\u001b[0m\u001b[0mcosh\u001b[0m\u001b[0;34m(\u001b[0m\u001b[0mX\u001b[0m\u001b[0;34m)\u001b[0m\u001b[0;34m)\u001b[0m\u001b[0;34m*\u001b[0m\u001b[0msinh\u001b[0m\u001b[0;34m(\u001b[0m\u001b[0mx\u001b[0m\u001b[0;34m)\u001b[0m\u001b[0;34m+\u001b[0m\u001b[0mln\u001b[0m\u001b[0;34m(\u001b[0m\u001b[0msqrt\u001b[0m\u001b[0;34m(\u001b[0m\u001b[0mx\u001b[0m\u001b[0;34m)\u001b[0m\u001b[0;34m+\u001b[0m\u001b[0mexp\u001b[0m\u001b[0;34m(\u001b[0m\u001b[0mx\u001b[0m\u001b[0;34m)\u001b[0m\u001b[0;34m)\u001b[0m\u001b[0;34m\u001b[0m\u001b[0;34m\u001b[0m\u001b[0m\n\u001b[0m\u001b[1;32m      3\u001b[0m \u001b[0mprint\u001b[0m\u001b[0;34m(\u001b[0m\u001b[0;34m\"y=\"\u001b[0m\u001b[0;34m,\u001b[0m \u001b[0my\u001b[0m\u001b[0;34m)\u001b[0m\u001b[0;34m\u001b[0m\u001b[0;34m\u001b[0m\u001b[0m\n",
            "\u001b[0;31mNameError\u001b[0m: name 'X' is not defined"
          ]
        }
      ]
    },
    {
      "cell_type": "code",
      "source": [],
      "metadata": {
        "id": "NY_K5AuWUlSS"
      },
      "execution_count": null,
      "outputs": []
    }
  ]
}